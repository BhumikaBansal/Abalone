{
 "cells": [
  {
   "cell_type": "markdown",
   "id": "1fbf8d8a",
   "metadata": {},
   "source": [
    "# ABALONE "
   ]
  },
  {
   "cell_type": "code",
   "execution_count": null,
   "id": "9d4194f5",
   "metadata": {},
   "outputs": [],
   "source": [
    "import os\n",
    "import numpy as np\n",
    "import pandas as pd\n",
    "import matplotlib.pyplot as plt\n",
    "import seaborn as sns\n",
    "\n",
    "from sklearn.preprocessing import OneHotEncoder,LabelEncoder\n",
    "from scipy.stats import pearsonr\n",
    "from sklearn.preprocessing import MinMaxScaler\n",
    "from sklearn.model_selection import train_test_split,cross_val_score\n",
    "from sklearn.linear_model import LogisticRegression"
   ]
  },
  {
   "cell_type": "code",
   "execution_count": null,
   "id": "58362609",
   "metadata": {
    "scrolled": true
   },
   "outputs": [],
   "source": [
    "DATA= pd.read_csv('abalone.csv')\n",
    "DATA.head()\n",
    "data=DATA.copy()"
   ]
  },
  {
   "cell_type": "markdown",
   "id": "77371a38",
   "metadata": {},
   "source": [
    "##### Creating a attribute- Age"
   ]
  },
  {
   "cell_type": "code",
   "execution_count": null,
   "id": "51608d2e",
   "metadata": {},
   "outputs": [
    {
     "data": {
      "text/html": [
       "<div>\n",
       "<style scoped>\n",
       "    .dataframe tbody tr th:only-of-type {\n",
       "        vertical-align: middle;\n",
       "    }\n",
       "\n",
       "    .dataframe tbody tr th {\n",
       "        vertical-align: top;\n",
       "    }\n",
       "\n",
       "    .dataframe thead th {\n",
       "        text-align: right;\n",
       "    }\n",
       "</style>\n",
       "<table border=\"1\" class=\"dataframe\">\n",
       "  <thead>\n",
       "    <tr style=\"text-align: right;\">\n",
       "      <th></th>\n",
       "      <th>SEX</th>\n",
       "      <th>LENGTH</th>\n",
       "      <th>DIAMETER</th>\n",
       "      <th>HEIGHT</th>\n",
       "      <th>WHOLE_WEIGHT</th>\n",
       "      <th>SHUCKED_WEIGHT</th>\n",
       "      <th>VISCERA_WEIGHT</th>\n",
       "      <th>SHELL_WEIGHT</th>\n",
       "      <th>RINGS</th>\n",
       "      <th>AGE</th>\n",
       "    </tr>\n",
       "  </thead>\n",
       "  <tbody>\n",
       "    <tr>\n",
       "      <th>0</th>\n",
       "      <td>M</td>\n",
       "      <td>0.455</td>\n",
       "      <td>0.365</td>\n",
       "      <td>0.095</td>\n",
       "      <td>0.5140</td>\n",
       "      <td>0.2245</td>\n",
       "      <td>0.1010</td>\n",
       "      <td>0.150</td>\n",
       "      <td>15</td>\n",
       "      <td>16.5</td>\n",
       "    </tr>\n",
       "    <tr>\n",
       "      <th>1</th>\n",
       "      <td>M</td>\n",
       "      <td>0.350</td>\n",
       "      <td>0.265</td>\n",
       "      <td>0.090</td>\n",
       "      <td>0.2255</td>\n",
       "      <td>0.0995</td>\n",
       "      <td>0.0485</td>\n",
       "      <td>0.070</td>\n",
       "      <td>7</td>\n",
       "      <td>8.5</td>\n",
       "    </tr>\n",
       "    <tr>\n",
       "      <th>2</th>\n",
       "      <td>F</td>\n",
       "      <td>0.530</td>\n",
       "      <td>0.420</td>\n",
       "      <td>0.135</td>\n",
       "      <td>0.6770</td>\n",
       "      <td>0.2565</td>\n",
       "      <td>0.1415</td>\n",
       "      <td>0.210</td>\n",
       "      <td>9</td>\n",
       "      <td>10.5</td>\n",
       "    </tr>\n",
       "    <tr>\n",
       "      <th>3</th>\n",
       "      <td>M</td>\n",
       "      <td>0.440</td>\n",
       "      <td>0.365</td>\n",
       "      <td>0.125</td>\n",
       "      <td>0.5160</td>\n",
       "      <td>0.2155</td>\n",
       "      <td>0.1140</td>\n",
       "      <td>0.155</td>\n",
       "      <td>10</td>\n",
       "      <td>11.5</td>\n",
       "    </tr>\n",
       "    <tr>\n",
       "      <th>4</th>\n",
       "      <td>I</td>\n",
       "      <td>0.330</td>\n",
       "      <td>0.255</td>\n",
       "      <td>0.080</td>\n",
       "      <td>0.2050</td>\n",
       "      <td>0.0895</td>\n",
       "      <td>0.0395</td>\n",
       "      <td>0.055</td>\n",
       "      <td>7</td>\n",
       "      <td>8.5</td>\n",
       "    </tr>\n",
       "  </tbody>\n",
       "</table>\n",
       "</div>"
      ],
      "text/plain": [
       "  SEX  LENGTH  DIAMETER  HEIGHT  WHOLE_WEIGHT  SHUCKED_WEIGHT  VISCERA_WEIGHT  \\\n",
       "0   M   0.455     0.365   0.095        0.5140          0.2245          0.1010   \n",
       "1   M   0.350     0.265   0.090        0.2255          0.0995          0.0485   \n",
       "2   F   0.530     0.420   0.135        0.6770          0.2565          0.1415   \n",
       "3   M   0.440     0.365   0.125        0.5160          0.2155          0.1140   \n",
       "4   I   0.330     0.255   0.080        0.2050          0.0895          0.0395   \n",
       "\n",
       "   SHELL_WEIGHT  RINGS   AGE  \n",
       "0         0.150     15  16.5  \n",
       "1         0.070      7   8.5  \n",
       "2         0.210      9  10.5  \n",
       "3         0.155     10  11.5  \n",
       "4         0.055      7   8.5  "
      ]
     },
     "execution_count": 3,
     "metadata": {},
     "output_type": "execute_result"
    }
   ],
   "source": [
    "data['AGE']= data['RINGS']+1.5\n",
    "data.head()"
   ]
  },
  {
   "cell_type": "code",
   "execution_count": null,
   "id": "32e50e1a",
   "metadata": {},
   "outputs": [
    {
     "name": "stdout",
     "output_type": "stream",
     "text": [
      "<class 'pandas.core.frame.DataFrame'>\n",
      "RangeIndex: 4177 entries, 0 to 4176\n",
      "Data columns (total 10 columns):\n",
      " #   Column          Non-Null Count  Dtype  \n",
      "---  ------          --------------  -----  \n",
      " 0   SEX             4177 non-null   object \n",
      " 1   LENGTH          4177 non-null   float64\n",
      " 2   DIAMETER        4177 non-null   float64\n",
      " 3   HEIGHT          4177 non-null   float64\n",
      " 4   WHOLE_WEIGHT    4177 non-null   float64\n",
      " 5   SHUCKED_WEIGHT  4177 non-null   float64\n",
      " 6   VISCERA_WEIGHT  4177 non-null   float64\n",
      " 7   SHELL_WEIGHT    4177 non-null   float64\n",
      " 8   RINGS           4177 non-null   int64  \n",
      " 9   AGE             4177 non-null   float64\n",
      "dtypes: float64(8), int64(1), object(1)\n",
      "memory usage: 326.5+ KB\n"
     ]
    }
   ],
   "source": [
    "data.info()"
   ]
  },
  {
   "cell_type": "code",
   "execution_count": null,
   "id": "69f2ad89",
   "metadata": {},
   "outputs": [
    {
     "name": "stdout",
     "output_type": "stream",
     "text": [
      "The dataset has 10 features with 4177 records.\n",
      " All the columns are numerical except the SEX column which has three classifications- male,female and infant.\n"
     ]
    }
   ],
   "source": [
    "print('The dataset has {} features with {} records.\\n All the columns are numerical except the SEX column which has three classifications- male,female and infant.'.format(data.shape[1],data.shape[0]))"
   ]
  },
  {
   "cell_type": "code",
   "execution_count": null,
   "id": "8ce3877a",
   "metadata": {
    "scrolled": false
   },
   "outputs": [
    {
     "data": {
      "text/plain": [
       "SEX               0\n",
       "LENGTH            0\n",
       "DIAMETER          0\n",
       "HEIGHT            0\n",
       "WHOLE_WEIGHT      0\n",
       "SHUCKED_WEIGHT    0\n",
       "VISCERA_WEIGHT    0\n",
       "SHELL_WEIGHT      0\n",
       "RINGS             0\n",
       "AGE               0\n",
       "dtype: int64"
      ]
     },
     "execution_count": 6,
     "metadata": {},
     "output_type": "execute_result"
    }
   ],
   "source": [
    "data.isna().sum()"
   ]
  },
  {
   "cell_type": "markdown",
   "id": "5188830f",
   "metadata": {},
   "source": [
    "###### The dataset has no null values."
   ]
  },
  {
   "cell_type": "code",
   "execution_count": null,
   "id": "9521879b",
   "metadata": {
    "scrolled": true
   },
   "outputs": [
    {
     "data": {
      "text/html": [
       "<div>\n",
       "<style scoped>\n",
       "    .dataframe tbody tr th:only-of-type {\n",
       "        vertical-align: middle;\n",
       "    }\n",
       "\n",
       "    .dataframe tbody tr th {\n",
       "        vertical-align: top;\n",
       "    }\n",
       "\n",
       "    .dataframe thead th {\n",
       "        text-align: right;\n",
       "    }\n",
       "</style>\n",
       "<table border=\"1\" class=\"dataframe\">\n",
       "  <thead>\n",
       "    <tr style=\"text-align: right;\">\n",
       "      <th></th>\n",
       "      <th>LENGTH</th>\n",
       "      <th>DIAMETER</th>\n",
       "      <th>HEIGHT</th>\n",
       "      <th>WHOLE_WEIGHT</th>\n",
       "      <th>SHUCKED_WEIGHT</th>\n",
       "      <th>VISCERA_WEIGHT</th>\n",
       "      <th>SHELL_WEIGHT</th>\n",
       "      <th>AGE</th>\n",
       "    </tr>\n",
       "  </thead>\n",
       "  <tbody>\n",
       "    <tr>\n",
       "      <th>count</th>\n",
       "      <td>4177.000000</td>\n",
       "      <td>4177.000000</td>\n",
       "      <td>4177.000000</td>\n",
       "      <td>4177.000000</td>\n",
       "      <td>4177.000000</td>\n",
       "      <td>4177.000000</td>\n",
       "      <td>4177.000000</td>\n",
       "      <td>4177.000000</td>\n",
       "    </tr>\n",
       "    <tr>\n",
       "      <th>mean</th>\n",
       "      <td>0.523992</td>\n",
       "      <td>0.407881</td>\n",
       "      <td>0.139516</td>\n",
       "      <td>0.828742</td>\n",
       "      <td>0.359367</td>\n",
       "      <td>0.180594</td>\n",
       "      <td>0.238831</td>\n",
       "      <td>11.433684</td>\n",
       "    </tr>\n",
       "    <tr>\n",
       "      <th>std</th>\n",
       "      <td>0.120093</td>\n",
       "      <td>0.099240</td>\n",
       "      <td>0.041827</td>\n",
       "      <td>0.490389</td>\n",
       "      <td>0.221963</td>\n",
       "      <td>0.109614</td>\n",
       "      <td>0.139203</td>\n",
       "      <td>3.224169</td>\n",
       "    </tr>\n",
       "    <tr>\n",
       "      <th>min</th>\n",
       "      <td>0.075000</td>\n",
       "      <td>0.055000</td>\n",
       "      <td>0.000000</td>\n",
       "      <td>0.002000</td>\n",
       "      <td>0.001000</td>\n",
       "      <td>0.000500</td>\n",
       "      <td>0.001500</td>\n",
       "      <td>2.500000</td>\n",
       "    </tr>\n",
       "    <tr>\n",
       "      <th>25%</th>\n",
       "      <td>0.450000</td>\n",
       "      <td>0.350000</td>\n",
       "      <td>0.115000</td>\n",
       "      <td>0.441500</td>\n",
       "      <td>0.186000</td>\n",
       "      <td>0.093500</td>\n",
       "      <td>0.130000</td>\n",
       "      <td>9.500000</td>\n",
       "    </tr>\n",
       "    <tr>\n",
       "      <th>50%</th>\n",
       "      <td>0.545000</td>\n",
       "      <td>0.425000</td>\n",
       "      <td>0.140000</td>\n",
       "      <td>0.799500</td>\n",
       "      <td>0.336000</td>\n",
       "      <td>0.171000</td>\n",
       "      <td>0.234000</td>\n",
       "      <td>10.500000</td>\n",
       "    </tr>\n",
       "    <tr>\n",
       "      <th>75%</th>\n",
       "      <td>0.615000</td>\n",
       "      <td>0.480000</td>\n",
       "      <td>0.165000</td>\n",
       "      <td>1.153000</td>\n",
       "      <td>0.502000</td>\n",
       "      <td>0.253000</td>\n",
       "      <td>0.329000</td>\n",
       "      <td>12.500000</td>\n",
       "    </tr>\n",
       "    <tr>\n",
       "      <th>max</th>\n",
       "      <td>0.815000</td>\n",
       "      <td>0.650000</td>\n",
       "      <td>1.130000</td>\n",
       "      <td>2.825500</td>\n",
       "      <td>1.488000</td>\n",
       "      <td>0.760000</td>\n",
       "      <td>1.005000</td>\n",
       "      <td>30.500000</td>\n",
       "    </tr>\n",
       "  </tbody>\n",
       "</table>\n",
       "</div>"
      ],
      "text/plain": [
       "            LENGTH     DIAMETER       HEIGHT  WHOLE_WEIGHT  SHUCKED_WEIGHT  \\\n",
       "count  4177.000000  4177.000000  4177.000000   4177.000000     4177.000000   \n",
       "mean      0.523992     0.407881     0.139516      0.828742        0.359367   \n",
       "std       0.120093     0.099240     0.041827      0.490389        0.221963   \n",
       "min       0.075000     0.055000     0.000000      0.002000        0.001000   \n",
       "25%       0.450000     0.350000     0.115000      0.441500        0.186000   \n",
       "50%       0.545000     0.425000     0.140000      0.799500        0.336000   \n",
       "75%       0.615000     0.480000     0.165000      1.153000        0.502000   \n",
       "max       0.815000     0.650000     1.130000      2.825500        1.488000   \n",
       "\n",
       "       VISCERA_WEIGHT  SHELL_WEIGHT          AGE  \n",
       "count     4177.000000   4177.000000  4177.000000  \n",
       "mean         0.180594      0.238831    11.433684  \n",
       "std          0.109614      0.139203     3.224169  \n",
       "min          0.000500      0.001500     2.500000  \n",
       "25%          0.093500      0.130000     9.500000  \n",
       "50%          0.171000      0.234000    10.500000  \n",
       "75%          0.253000      0.329000    12.500000  \n",
       "max          0.760000      1.005000    30.500000  "
      ]
     },
     "execution_count": 7,
     "metadata": {},
     "output_type": "execute_result"
    }
   ],
   "source": [
    "data.drop('RINGS',axis=1).describe()"
   ]
  },
  {
   "cell_type": "markdown",
   "id": "38319da8",
   "metadata": {},
   "source": [
    "On an average (irrespective of the sex):\n",
    "\n",
    "- An Abalone is expected to live for 11 years.\n",
    "\n",
    "- The height of an Abalone is 0.139516mm. \n",
    "\n",
    "- The overall weight of an Abalone's body is 0.828742 grams.\n",
    "\n",
    "- The maximun length of an Abalone can be 0.815mm and minmum could be 0.075mm.\n",
    "\n",
    "- The diameter of an Abalone ranges between  0.055 to 0.65mm.\n",
    "\n"
   ]
  },
  {
   "cell_type": "markdown",
   "id": "a8142d56",
   "metadata": {},
   "source": [
    "### CHECKING FOR 0 IN HEIGHT"
   ]
  },
  {
   "cell_type": "code",
   "execution_count": null,
   "id": "2550aa77",
   "metadata": {},
   "outputs": [
    {
     "data": {
      "text/plain": [
       "2"
      ]
     },
     "execution_count": 8,
     "metadata": {},
     "output_type": "execute_result"
    }
   ],
   "source": [
    "(data.HEIGHT==0).sum()"
   ]
  },
  {
   "cell_type": "code",
   "execution_count": null,
   "id": "808551fc",
   "metadata": {},
   "outputs": [
    {
     "data": {
      "text/html": [
       "<div>\n",
       "<style scoped>\n",
       "    .dataframe tbody tr th:only-of-type {\n",
       "        vertical-align: middle;\n",
       "    }\n",
       "\n",
       "    .dataframe tbody tr th {\n",
       "        vertical-align: top;\n",
       "    }\n",
       "\n",
       "    .dataframe thead th {\n",
       "        text-align: right;\n",
       "    }\n",
       "</style>\n",
       "<table border=\"1\" class=\"dataframe\">\n",
       "  <thead>\n",
       "    <tr style=\"text-align: right;\">\n",
       "      <th></th>\n",
       "      <th>SEX</th>\n",
       "      <th>LENGTH</th>\n",
       "      <th>DIAMETER</th>\n",
       "      <th>HEIGHT</th>\n",
       "      <th>WHOLE_WEIGHT</th>\n",
       "      <th>SHUCKED_WEIGHT</th>\n",
       "      <th>VISCERA_WEIGHT</th>\n",
       "      <th>SHELL_WEIGHT</th>\n",
       "      <th>RINGS</th>\n",
       "      <th>AGE</th>\n",
       "    </tr>\n",
       "  </thead>\n",
       "  <tbody>\n",
       "    <tr>\n",
       "      <th>1257</th>\n",
       "      <td>I</td>\n",
       "      <td>0.430</td>\n",
       "      <td>0.34</td>\n",
       "      <td>0.0</td>\n",
       "      <td>0.428</td>\n",
       "      <td>0.2065</td>\n",
       "      <td>0.0860</td>\n",
       "      <td>0.1150</td>\n",
       "      <td>8</td>\n",
       "      <td>9.5</td>\n",
       "    </tr>\n",
       "    <tr>\n",
       "      <th>3996</th>\n",
       "      <td>I</td>\n",
       "      <td>0.315</td>\n",
       "      <td>0.23</td>\n",
       "      <td>0.0</td>\n",
       "      <td>0.134</td>\n",
       "      <td>0.0575</td>\n",
       "      <td>0.0285</td>\n",
       "      <td>0.3505</td>\n",
       "      <td>6</td>\n",
       "      <td>7.5</td>\n",
       "    </tr>\n",
       "  </tbody>\n",
       "</table>\n",
       "</div>"
      ],
      "text/plain": [
       "     SEX  LENGTH  DIAMETER  HEIGHT  WHOLE_WEIGHT  SHUCKED_WEIGHT  \\\n",
       "1257   I   0.430      0.34     0.0         0.428          0.2065   \n",
       "3996   I   0.315      0.23     0.0         0.134          0.0575   \n",
       "\n",
       "      VISCERA_WEIGHT  SHELL_WEIGHT  RINGS  AGE  \n",
       "1257          0.0860        0.1150      8  9.5  \n",
       "3996          0.0285        0.3505      6  7.5  "
      ]
     },
     "execution_count": 9,
     "metadata": {},
     "output_type": "execute_result"
    }
   ],
   "source": [
    "data[data['HEIGHT']==0]"
   ]
  },
  {
   "cell_type": "markdown",
   "id": "71017f6e",
   "metadata": {},
   "source": [
    "### IMPUTATION OF HEIGHT COLUMN  HAING  VALUE as 0. "
   ]
  },
  {
   "cell_type": "code",
   "execution_count": null,
   "id": "b537e9b3",
   "metadata": {
    "scrolled": true
   },
   "outputs": [
    {
     "data": {
      "text/html": [
       "<div>\n",
       "<style scoped>\n",
       "    .dataframe tbody tr th:only-of-type {\n",
       "        vertical-align: middle;\n",
       "    }\n",
       "\n",
       "    .dataframe tbody tr th {\n",
       "        vertical-align: top;\n",
       "    }\n",
       "\n",
       "    .dataframe thead th {\n",
       "        text-align: right;\n",
       "    }\n",
       "</style>\n",
       "<table border=\"1\" class=\"dataframe\">\n",
       "  <thead>\n",
       "    <tr style=\"text-align: right;\">\n",
       "      <th></th>\n",
       "      <th>HEIGHT</th>\n",
       "    </tr>\n",
       "    <tr>\n",
       "      <th>SEX</th>\n",
       "      <th></th>\n",
       "    </tr>\n",
       "  </thead>\n",
       "  <tbody>\n",
       "    <tr>\n",
       "      <th>F</th>\n",
       "      <td>0.158011</td>\n",
       "    </tr>\n",
       "    <tr>\n",
       "      <th>I</th>\n",
       "      <td>0.107996</td>\n",
       "    </tr>\n",
       "    <tr>\n",
       "      <th>M</th>\n",
       "      <td>0.151381</td>\n",
       "    </tr>\n",
       "  </tbody>\n",
       "</table>\n",
       "</div>"
      ],
      "text/plain": [
       "       HEIGHT\n",
       "SEX          \n",
       "F    0.158011\n",
       "I    0.107996\n",
       "M    0.151381"
      ]
     },
     "execution_count": 10,
     "metadata": {},
     "output_type": "execute_result"
    }
   ],
   "source": [
    "means = pd.pivot_table(data=data, index=['SEX'],aggfunc={'HEIGHT': np.mean})\n",
    "means"
   ]
  },
  {
   "cell_type": "code",
   "execution_count": null,
   "id": "681b5e7d",
   "metadata": {},
   "outputs": [
    {
     "data": {
      "text/plain": [
       "0"
      ]
     },
     "execution_count": 11,
     "metadata": {},
     "output_type": "execute_result"
    }
   ],
   "source": [
    "data['HEIGHT']= data['HEIGHT'].replace(to_replace=0,value=0.107996)#height 0 is for infant \n",
    "(data['HEIGHT']==0).sum()"
   ]
  },
  {
   "cell_type": "markdown",
   "id": "f1a62380",
   "metadata": {},
   "source": [
    "### ENCODING\n",
    "- The attribute SEX is on nominal scale as we are finding the rings of the abalone, since we give equal weightage to all the classes of SEX.\n",
    "- For nominal data , we use sklearn method of One hot encoder or pandas method of get_dummies"
   ]
  },
  {
   "cell_type": "code",
   "execution_count": null,
   "id": "386f4e99",
   "metadata": {},
   "outputs": [
    {
     "data": {
      "text/html": [
       "<div>\n",
       "<style scoped>\n",
       "    .dataframe tbody tr th:only-of-type {\n",
       "        vertical-align: middle;\n",
       "    }\n",
       "\n",
       "    .dataframe tbody tr th {\n",
       "        vertical-align: top;\n",
       "    }\n",
       "\n",
       "    .dataframe thead th {\n",
       "        text-align: right;\n",
       "    }\n",
       "</style>\n",
       "<table border=\"1\" class=\"dataframe\">\n",
       "  <thead>\n",
       "    <tr style=\"text-align: right;\">\n",
       "      <th></th>\n",
       "      <th>LENGTH</th>\n",
       "      <th>DIAMETER</th>\n",
       "      <th>HEIGHT</th>\n",
       "      <th>WHOLE_WEIGHT</th>\n",
       "      <th>SHUCKED_WEIGHT</th>\n",
       "      <th>VISCERA_WEIGHT</th>\n",
       "      <th>SHELL_WEIGHT</th>\n",
       "      <th>RINGS</th>\n",
       "      <th>AGE</th>\n",
       "      <th>SEX_I</th>\n",
       "      <th>SEX_M</th>\n",
       "    </tr>\n",
       "  </thead>\n",
       "  <tbody>\n",
       "    <tr>\n",
       "      <th>0</th>\n",
       "      <td>0.455</td>\n",
       "      <td>0.365</td>\n",
       "      <td>0.095</td>\n",
       "      <td>0.5140</td>\n",
       "      <td>0.2245</td>\n",
       "      <td>0.1010</td>\n",
       "      <td>0.1500</td>\n",
       "      <td>15</td>\n",
       "      <td>16.5</td>\n",
       "      <td>0</td>\n",
       "      <td>1</td>\n",
       "    </tr>\n",
       "    <tr>\n",
       "      <th>1</th>\n",
       "      <td>0.350</td>\n",
       "      <td>0.265</td>\n",
       "      <td>0.090</td>\n",
       "      <td>0.2255</td>\n",
       "      <td>0.0995</td>\n",
       "      <td>0.0485</td>\n",
       "      <td>0.0700</td>\n",
       "      <td>7</td>\n",
       "      <td>8.5</td>\n",
       "      <td>0</td>\n",
       "      <td>1</td>\n",
       "    </tr>\n",
       "    <tr>\n",
       "      <th>2</th>\n",
       "      <td>0.530</td>\n",
       "      <td>0.420</td>\n",
       "      <td>0.135</td>\n",
       "      <td>0.6770</td>\n",
       "      <td>0.2565</td>\n",
       "      <td>0.1415</td>\n",
       "      <td>0.2100</td>\n",
       "      <td>9</td>\n",
       "      <td>10.5</td>\n",
       "      <td>0</td>\n",
       "      <td>0</td>\n",
       "    </tr>\n",
       "    <tr>\n",
       "      <th>3</th>\n",
       "      <td>0.440</td>\n",
       "      <td>0.365</td>\n",
       "      <td>0.125</td>\n",
       "      <td>0.5160</td>\n",
       "      <td>0.2155</td>\n",
       "      <td>0.1140</td>\n",
       "      <td>0.1550</td>\n",
       "      <td>10</td>\n",
       "      <td>11.5</td>\n",
       "      <td>0</td>\n",
       "      <td>1</td>\n",
       "    </tr>\n",
       "    <tr>\n",
       "      <th>4</th>\n",
       "      <td>0.330</td>\n",
       "      <td>0.255</td>\n",
       "      <td>0.080</td>\n",
       "      <td>0.2050</td>\n",
       "      <td>0.0895</td>\n",
       "      <td>0.0395</td>\n",
       "      <td>0.0550</td>\n",
       "      <td>7</td>\n",
       "      <td>8.5</td>\n",
       "      <td>1</td>\n",
       "      <td>0</td>\n",
       "    </tr>\n",
       "    <tr>\n",
       "      <th>...</th>\n",
       "      <td>...</td>\n",
       "      <td>...</td>\n",
       "      <td>...</td>\n",
       "      <td>...</td>\n",
       "      <td>...</td>\n",
       "      <td>...</td>\n",
       "      <td>...</td>\n",
       "      <td>...</td>\n",
       "      <td>...</td>\n",
       "      <td>...</td>\n",
       "      <td>...</td>\n",
       "    </tr>\n",
       "    <tr>\n",
       "      <th>4172</th>\n",
       "      <td>0.565</td>\n",
       "      <td>0.450</td>\n",
       "      <td>0.165</td>\n",
       "      <td>0.8870</td>\n",
       "      <td>0.3700</td>\n",
       "      <td>0.2390</td>\n",
       "      <td>0.2490</td>\n",
       "      <td>11</td>\n",
       "      <td>12.5</td>\n",
       "      <td>0</td>\n",
       "      <td>0</td>\n",
       "    </tr>\n",
       "    <tr>\n",
       "      <th>4173</th>\n",
       "      <td>0.590</td>\n",
       "      <td>0.440</td>\n",
       "      <td>0.135</td>\n",
       "      <td>0.9660</td>\n",
       "      <td>0.4390</td>\n",
       "      <td>0.2145</td>\n",
       "      <td>0.2605</td>\n",
       "      <td>10</td>\n",
       "      <td>11.5</td>\n",
       "      <td>0</td>\n",
       "      <td>1</td>\n",
       "    </tr>\n",
       "    <tr>\n",
       "      <th>4174</th>\n",
       "      <td>0.600</td>\n",
       "      <td>0.475</td>\n",
       "      <td>0.205</td>\n",
       "      <td>1.1760</td>\n",
       "      <td>0.5255</td>\n",
       "      <td>0.2875</td>\n",
       "      <td>0.3080</td>\n",
       "      <td>9</td>\n",
       "      <td>10.5</td>\n",
       "      <td>0</td>\n",
       "      <td>1</td>\n",
       "    </tr>\n",
       "    <tr>\n",
       "      <th>4175</th>\n",
       "      <td>0.625</td>\n",
       "      <td>0.485</td>\n",
       "      <td>0.150</td>\n",
       "      <td>1.0945</td>\n",
       "      <td>0.5310</td>\n",
       "      <td>0.2610</td>\n",
       "      <td>0.2960</td>\n",
       "      <td>10</td>\n",
       "      <td>11.5</td>\n",
       "      <td>0</td>\n",
       "      <td>0</td>\n",
       "    </tr>\n",
       "    <tr>\n",
       "      <th>4176</th>\n",
       "      <td>0.710</td>\n",
       "      <td>0.555</td>\n",
       "      <td>0.195</td>\n",
       "      <td>1.9485</td>\n",
       "      <td>0.9455</td>\n",
       "      <td>0.3765</td>\n",
       "      <td>0.4950</td>\n",
       "      <td>12</td>\n",
       "      <td>13.5</td>\n",
       "      <td>0</td>\n",
       "      <td>1</td>\n",
       "    </tr>\n",
       "  </tbody>\n",
       "</table>\n",
       "<p>4177 rows × 11 columns</p>\n",
       "</div>"
      ],
      "text/plain": [
       "      LENGTH  DIAMETER  HEIGHT  WHOLE_WEIGHT  SHUCKED_WEIGHT  VISCERA_WEIGHT  \\\n",
       "0      0.455     0.365   0.095        0.5140          0.2245          0.1010   \n",
       "1      0.350     0.265   0.090        0.2255          0.0995          0.0485   \n",
       "2      0.530     0.420   0.135        0.6770          0.2565          0.1415   \n",
       "3      0.440     0.365   0.125        0.5160          0.2155          0.1140   \n",
       "4      0.330     0.255   0.080        0.2050          0.0895          0.0395   \n",
       "...      ...       ...     ...           ...             ...             ...   \n",
       "4172   0.565     0.450   0.165        0.8870          0.3700          0.2390   \n",
       "4173   0.590     0.440   0.135        0.9660          0.4390          0.2145   \n",
       "4174   0.600     0.475   0.205        1.1760          0.5255          0.2875   \n",
       "4175   0.625     0.485   0.150        1.0945          0.5310          0.2610   \n",
       "4176   0.710     0.555   0.195        1.9485          0.9455          0.3765   \n",
       "\n",
       "      SHELL_WEIGHT  RINGS   AGE  SEX_I  SEX_M  \n",
       "0           0.1500     15  16.5      0      1  \n",
       "1           0.0700      7   8.5      0      1  \n",
       "2           0.2100      9  10.5      0      0  \n",
       "3           0.1550     10  11.5      0      1  \n",
       "4           0.0550      7   8.5      1      0  \n",
       "...            ...    ...   ...    ...    ...  \n",
       "4172        0.2490     11  12.5      0      0  \n",
       "4173        0.2605     10  11.5      0      1  \n",
       "4174        0.3080      9  10.5      0      1  \n",
       "4175        0.2960     10  11.5      0      0  \n",
       "4176        0.4950     12  13.5      0      1  \n",
       "\n",
       "[4177 rows x 11 columns]"
      ]
     },
     "execution_count": 12,
     "metadata": {},
     "output_type": "execute_result"
    }
   ],
   "source": [
    "pd.get_dummies(data,drop_first=True)"
   ]
  },
  {
   "cell_type": "markdown",
   "id": "4b258254",
   "metadata": {},
   "source": [
    "### UNIVARIATE ANALYSIS"
   ]
  },
  {
   "cell_type": "code",
   "execution_count": null,
   "id": "5cd73412",
   "metadata": {
    "scrolled": false
   },
   "outputs": [],
   "source": [
    "data.hist(figsize=(20,10))\n",
    "plt.show()\n"
   ]
  },
  {
   "cell_type": "code",
   "execution_count": null,
   "id": "fc9b319e",
   "metadata": {
    "scrolled": true
   },
   "outputs": [],
   "source": [
    "sns.kdeplot(data.HEIGHT)\n"
   ]
  },
  {
   "cell_type": "markdown",
   "id": "96c9c691",
   "metadata": {},
   "source": [
    "###### Height column's datapoints are skwed towards the right. "
   ]
  },
  {
   "cell_type": "code",
   "execution_count": null,
   "id": "589c2a28",
   "metadata": {
    "scrolled": true
   },
   "outputs": [],
   "source": [
    "sns.kdeplot(data.LENGTH)"
   ]
  },
  {
   "cell_type": "markdown",
   "id": "36c4580a",
   "metadata": {},
   "source": [
    "###### Length column's datapoints are skwed towards the left."
   ]
  },
  {
   "cell_type": "code",
   "execution_count": null,
   "id": "c3fd9cfc",
   "metadata": {
    "scrolled": true
   },
   "outputs": [],
   "source": [
    "sns.kdeplot(data.DIAMETER)"
   ]
  },
  {
   "cell_type": "markdown",
   "id": "65eb1298",
   "metadata": {},
   "source": [
    "###### Diameter column's datapoints are skwed towards the left."
   ]
  },
  {
   "cell_type": "code",
   "execution_count": null,
   "id": "d4d9a79f",
   "metadata": {
    "scrolled": true
   },
   "outputs": [],
   "source": [
    "\n",
    "sns.kdeplot(data.WHOLE_WEIGHT)\n"
   ]
  },
  {
   "cell_type": "markdown",
   "id": "03060287",
   "metadata": {},
   "source": [
    "###### WHOLE_WEIGHT column's datapoints are not normally distributed and  is bimodal."
   ]
  },
  {
   "cell_type": "code",
   "execution_count": null,
   "id": "dedd0ac6",
   "metadata": {},
   "outputs": [],
   "source": [
    "sns.kdeplot(data.VISCERA_WEIGHT)"
   ]
  },
  {
   "cell_type": "markdown",
   "id": "9e94a0db",
   "metadata": {},
   "source": [
    "###### VISCERA_WEIGHT column's datapoints are positively skwed as the tail of the distribution is elongated towards the right."
   ]
  },
  {
   "cell_type": "code",
   "execution_count": null,
   "id": "084b1098",
   "metadata": {},
   "outputs": [],
   "source": [
    "sns.kdeplot(data.SHELL_WEIGHT)"
   ]
  },
  {
   "cell_type": "markdown",
   "id": "b9dd9c1f",
   "metadata": {},
   "source": [
    "###### SHELL_WEIGHT column's datapoints  has its tail elongated to the right and is bimodal."
   ]
  },
  {
   "cell_type": "code",
   "execution_count": null,
   "id": "8d579526",
   "metadata": {
    "scrolled": true
   },
   "outputs": [],
   "source": [
    "sns.kdeplot(data.AGE)"
   ]
  },
  {
   "cell_type": "markdown",
   "id": "6a721a0c",
   "metadata": {},
   "source": [
    "###### AGE column's datapoints  has its tail elongated to the right, so it is positively skwed."
   ]
  },
  {
   "cell_type": "markdown",
   "id": "51bba750",
   "metadata": {},
   "source": [
    "##### Among all the columns, Height has the maximum skwed datapoints."
   ]
  },
  {
   "cell_type": "markdown",
   "id": "7ba2255f",
   "metadata": {},
   "source": [
    "### Abalone's of which sex are found to be the most?"
   ]
  },
  {
   "cell_type": "code",
   "execution_count": null,
   "id": "a1312eda",
   "metadata": {
    "scrolled": true
   },
   "outputs": [],
   "source": [
    "data['SEX'].value_counts().plot.pie()\n",
    "data['SEX'].value_counts()"
   ]
  },
  {
   "cell_type": "markdown",
   "id": "18945916",
   "metadata": {},
   "source": [
    "0- Female         1-Infant         2-Male\n",
    "\n",
    "Male Abalones have a maximun count followed by the infant Abalones. Female Abalone's have the  least ."
   ]
  },
  {
   "cell_type": "markdown",
   "id": "121ae419",
   "metadata": {},
   "source": [
    "### Which ring has the highest and the least count? and the range where the rings ranges  the most?"
   ]
  },
  {
   "cell_type": "code",
   "execution_count": null,
   "id": "35224f71",
   "metadata": {
    "scrolled": false
   },
   "outputs": [],
   "source": [
    "sns.countplot(data=data,x='RINGS')\n",
    "data.RINGS.value_counts()\n"
   ]
  },
  {
   "cell_type": "markdown",
   "id": "ec3378e1",
   "metadata": {},
   "source": [
    "Ring 9 has the highest count of 689 followed by ring 10 with the count of 634.\n",
    "\n",
    "Rings - 1,2,25,26,29 have the least count of 1 followed by 24 and 27 with the count of 2.\n",
    "\n",
    "The rings ranges maximum between the range of 6 to 12.\n",
    "\n",
    "Rings datapoints are skwed towards the right."
   ]
  },
  {
   "cell_type": "markdown",
   "id": "97c2972b",
   "metadata": {},
   "source": [
    "### BIVARIATE ANALYSIS"
   ]
  },
  {
   "cell_type": "markdown",
   "id": "f6c3d4ba",
   "metadata": {},
   "source": [
    "### Which gender has the maximum rings?"
   ]
  },
  {
   "cell_type": "code",
   "execution_count": null,
   "id": "d0f236a1",
   "metadata": {
    "scrolled": true
   },
   "outputs": [],
   "source": [
    "pd.pivot_table(index=['SEX'],values=['RINGS'],data=data,aggfunc={np.max})\n"
   ]
  },
  {
   "cell_type": "markdown",
   "id": "c47c7291",
   "metadata": {},
   "source": [
    "###### Female abalone's have the maximum count of rings."
   ]
  },
  {
   "cell_type": "markdown",
   "id": "afe8936a",
   "metadata": {},
   "source": [
    "### On an average which gender has the maximum rings?"
   ]
  },
  {
   "cell_type": "code",
   "execution_count": null,
   "id": "7b19f8b8",
   "metadata": {},
   "outputs": [],
   "source": [
    "pd.pivot_table(index=['SEX'],values=['RINGS'],data=data,aggfunc={np.mean})\n"
   ]
  },
  {
   "cell_type": "code",
   "execution_count": null,
   "id": "f3949edb",
   "metadata": {},
   "outputs": [],
   "source": [
    "plt.figure(figsize=(12,5))\n",
    "sns.barplot(data=data,x='RINGS',y='RINGS',hue='SEX')\n",
    "plt.show()\n",
    "\n"
   ]
  },
  {
   "cell_type": "markdown",
   "id": "5467ee3b",
   "metadata": {},
   "source": [
    "###### Female Abalones have  more rings than male and infants. \n"
   ]
  },
  {
   "cell_type": "markdown",
   "id": "e3d2eb0c",
   "metadata": {},
   "source": [
    "### Who has a longer lifespan among the male and female Abalone?"
   ]
  },
  {
   "cell_type": "code",
   "execution_count": null,
   "id": "0860709c",
   "metadata": {
    "scrolled": false
   },
   "outputs": [],
   "source": [
    "sns.swarmplot(data=data,x='SEX',y='AGE')\n",
    "data.groupby(['SEX'])['AGE'].median()"
   ]
  },
  {
   "cell_type": "markdown",
   "id": "337a9cee",
   "metadata": {},
   "source": [
    "##### Female Abalone's have longer lifespan when compared to the male.\n",
    "width explains the accumulation of the datapoints, length explains the variance.\n",
    "- Female abalone's age ranges the most between 10-25.\n",
    "- Male abalone's age ranges the most between 10-20.\n",
    "- Infant abalone's age ranges the most between 5-15."
   ]
  },
  {
   "cell_type": "markdown",
   "id": "161df5c5",
   "metadata": {},
   "source": [
    "### Is their a significance difference in the height of Abalones as per their gender?"
   ]
  },
  {
   "cell_type": "code",
   "execution_count": null,
   "id": "e2161787",
   "metadata": {
    "scrolled": false
   },
   "outputs": [],
   "source": [
    "sns.barplot(data=data,x='SEX',y='HEIGHT')\n",
    "\n",
    "data.groupby(['SEX'])[[\"HEIGHT\",'LENGTH']].mean()\n"
   ]
  },
  {
   "cell_type": "markdown",
   "id": "b967bd11",
   "metadata": {},
   "source": [
    "0- Female\n",
    "1-Infant\n",
    "2-Male\n",
    "\n",
    "On an average, the height of a female abalone is more than the male abalone with a significance difference of 0.006mm."
   ]
  },
  {
   "cell_type": "markdown",
   "id": "b4c9c606",
   "metadata": {},
   "source": [
    "### Is their a significance difference in the diameter of Abalones as per their gender?"
   ]
  },
  {
   "cell_type": "code",
   "execution_count": null,
   "id": "a3591738",
   "metadata": {
    "scrolled": false
   },
   "outputs": [],
   "source": [
    "sns.barplot(data=data,x='SEX',y='DIAMETER')\n",
    "\n",
    "data.groupby(['SEX'])[\"DIAMETER\"].mean()"
   ]
  },
  {
   "cell_type": "markdown",
   "id": "6ac55e6d",
   "metadata": {},
   "source": [
    "###### The female Abalones have a higher diameter in comparison to the male.\n",
    "The diameter of a male Abalone and female Abalone has a difference of 0.015mm.\n"
   ]
  },
  {
   "cell_type": "markdown",
   "id": "80e8f4dc",
   "metadata": {},
   "source": [
    "### Find the  number of rings that each sex of Abalone have?And among them which has the highest?"
   ]
  },
  {
   "cell_type": "code",
   "execution_count": null,
   "id": "1cef4161",
   "metadata": {
    "scrolled": true
   },
   "outputs": [],
   "source": [
    "data.groupby(['SEX'])['RINGS'].count()\n"
   ]
  },
  {
   "cell_type": "markdown",
   "id": "0240b584",
   "metadata": {},
   "source": [
    "##### Female Abalones have the maximum number of rings."
   ]
  },
  {
   "cell_type": "markdown",
   "id": "11e7923d",
   "metadata": {},
   "source": [
    "### What is the max and min weights of an Abalone's shell(after being dried), viscera(gut weight- industrial waste), shucked(flesh)? Which sex of Abalone weighs the most? "
   ]
  },
  {
   "cell_type": "code",
   "execution_count": null,
   "id": "598be305",
   "metadata": {
    "scrolled": false
   },
   "outputs": [],
   "source": [
    "pd.pivot_table(index=['SEX'],values=['WHOLE_WEIGHT','SHUCKED_WEIGHT','VISCERA_WEIGHT','SHELL_WEIGHT'],data=data, aggfunc=({min,max}))"
   ]
  },
  {
   "cell_type": "markdown",
   "id": "c51857b0",
   "metadata": {},
   "source": [
    "#### Male Abalones weighs more than the female Abalones.\n",
    "Though the female Abalones have the shell weight and shucked weight more than the male Abalones. It is the Viscera weight that makes the male Abalones weighs the most.\n"
   ]
  },
  {
   "cell_type": "markdown",
   "id": "bdff46ec",
   "metadata": {},
   "source": [
    "###### To graphically understand the above interpretation."
   ]
  },
  {
   "cell_type": "code",
   "execution_count": null,
   "id": "778dd143",
   "metadata": {
    "scrolled": false
   },
   "outputs": [],
   "source": [
    "sns.barplot(data.SEX,data.WHOLE_WEIGHT)"
   ]
  },
  {
   "cell_type": "code",
   "execution_count": null,
   "id": "d2b8a2c4",
   "metadata": {},
   "outputs": [],
   "source": [
    "sns.barplot(data.SEX,data.SHUCKED_WEIGHT)"
   ]
  },
  {
   "cell_type": "code",
   "execution_count": null,
   "id": "01846f46",
   "metadata": {
    "scrolled": false
   },
   "outputs": [],
   "source": [
    "sns.barplot(data.SEX,data.VISCERA_WEIGHT)"
   ]
  },
  {
   "cell_type": "code",
   "execution_count": null,
   "id": "b289dd9e",
   "metadata": {},
   "outputs": [],
   "source": [
    "sns.barplot(data.SEX,data.SHELL_WEIGHT)"
   ]
  },
  {
   "cell_type": "markdown",
   "id": "780bb999",
   "metadata": {},
   "source": [
    "### MULTIVARIATE ANALYSIS"
   ]
  },
  {
   "cell_type": "markdown",
   "id": "75b641dc",
   "metadata": {},
   "source": [
    "### Does age have an impact on the height and weight of  Abalone?\n"
   ]
  },
  {
   "cell_type": "code",
   "execution_count": null,
   "id": "f75e0be2",
   "metadata": {
    "scrolled": true
   },
   "outputs": [],
   "source": [
    "c,p= pearsonr(data.WHOLE_WEIGHT,data.AGE)\n",
    "if p>0.05:\n",
    "    print('NOT SIGNIFICANT: THERE IS NO IMPACT OF AGE ON WHOLE_WEIGHT',p)\n",
    "else:\n",
    "    print(' SIGNIFICANT: THERE IS AN IMPACT OF AGE ON WHOLE_WEIGHT',p)"
   ]
  },
  {
   "cell_type": "code",
   "execution_count": null,
   "id": "158cec9a",
   "metadata": {
    "scrolled": false
   },
   "outputs": [],
   "source": [
    "sns.lmplot(data=data,x='AGE',y='WHOLE_WEIGHT',hue='SEX')\n"
   ]
  },
  {
   "cell_type": "markdown",
   "id": "0053923e",
   "metadata": {},
   "source": [
    "###### From the graph we can infer that the age has an significant impact on the weight of Abalone as the lower points shows the infants and as the age increase weight increases. "
   ]
  },
  {
   "cell_type": "code",
   "execution_count": null,
   "id": "0cde3182",
   "metadata": {},
   "outputs": [],
   "source": [
    "c,p= pearsonr(data.HEIGHT,data.AGE)\n",
    "if p>0.05:\n",
    "    print('NOT SIGNIFICANT: THERE IS NO IMPACT OF AGE ON HEIGHT',p)\n",
    "else:\n",
    "    print(' SIGNIFICANT: THERE IS AN IMPACT OF AGE ON HEIGHT',p)"
   ]
  },
  {
   "cell_type": "code",
   "execution_count": null,
   "id": "a686a2a6",
   "metadata": {
    "scrolled": true
   },
   "outputs": [],
   "source": [
    "sns.lmplot(data=data,x='AGE',y='HEIGHT',hue='SEX')"
   ]
  },
  {
   "cell_type": "markdown",
   "id": "fe13d388",
   "metadata": {},
   "source": [
    "###### From the graph we can infer that the age has an significant impact on the height of Abalone as the lower points shows the infants and as the age increase height increases. "
   ]
  },
  {
   "cell_type": "markdown",
   "id": "1df60dc5",
   "metadata": {},
   "source": [
    "###### The above graphical and statistical tests show that as the age increases the height and weight increases of the Abalone."
   ]
  },
  {
   "cell_type": "markdown",
   "id": "39f54fd0",
   "metadata": {},
   "source": [
    "### Does diameter of Abalone increases with the increase in height?"
   ]
  },
  {
   "cell_type": "code",
   "execution_count": null,
   "id": "9584b84b",
   "metadata": {
    "scrolled": true
   },
   "outputs": [],
   "source": [
    "sns.lmplot(data=data,x='DIAMETER',y='HEIGHT',hue='SEX')"
   ]
  },
  {
   "cell_type": "markdown",
   "id": "b6a25de9",
   "metadata": {},
   "source": [
    "###### Yes, the diameter of an Abalone increases as the height of the Abalone increases."
   ]
  },
  {
   "cell_type": "code",
   "execution_count": null,
   "id": "714ff088",
   "metadata": {
    "scrolled": false
   },
   "outputs": [],
   "source": [
    "plt.figure(figsize=(20,10))\n",
    "sns.heatmap(data.corr(),annot=True,cbar=False)\n",
    "plt.show()\n",
    "\n"
   ]
  },
  {
   "cell_type": "code",
   "execution_count": null,
   "id": "897cf481",
   "metadata": {},
   "outputs": [],
   "source": [
    "DF= DATA.copy()"
   ]
  },
  {
   "cell_type": "markdown",
   "id": "e99b395e",
   "metadata": {},
   "source": [
    "### ENCODING"
   ]
  },
  {
   "cell_type": "code",
   "execution_count": null,
   "id": "87c41efe",
   "metadata": {},
   "outputs": [
    {
     "data": {
      "text/html": [
       "<div>\n",
       "<style scoped>\n",
       "    .dataframe tbody tr th:only-of-type {\n",
       "        vertical-align: middle;\n",
       "    }\n",
       "\n",
       "    .dataframe tbody tr th {\n",
       "        vertical-align: top;\n",
       "    }\n",
       "\n",
       "    .dataframe thead th {\n",
       "        text-align: right;\n",
       "    }\n",
       "</style>\n",
       "<table border=\"1\" class=\"dataframe\">\n",
       "  <thead>\n",
       "    <tr style=\"text-align: right;\">\n",
       "      <th></th>\n",
       "      <th>LENGTH</th>\n",
       "      <th>DIAMETER</th>\n",
       "      <th>HEIGHT</th>\n",
       "      <th>WHOLE_WEIGHT</th>\n",
       "      <th>SHUCKED_WEIGHT</th>\n",
       "      <th>VISCERA_WEIGHT</th>\n",
       "      <th>SHELL_WEIGHT</th>\n",
       "      <th>RINGS</th>\n",
       "      <th>F</th>\n",
       "      <th>I</th>\n",
       "      <th>M</th>\n",
       "    </tr>\n",
       "  </thead>\n",
       "  <tbody>\n",
       "    <tr>\n",
       "      <th>0</th>\n",
       "      <td>0.455</td>\n",
       "      <td>0.365</td>\n",
       "      <td>0.095</td>\n",
       "      <td>0.5140</td>\n",
       "      <td>0.2245</td>\n",
       "      <td>0.1010</td>\n",
       "      <td>0.1500</td>\n",
       "      <td>15</td>\n",
       "      <td>0</td>\n",
       "      <td>0</td>\n",
       "      <td>1</td>\n",
       "    </tr>\n",
       "    <tr>\n",
       "      <th>1</th>\n",
       "      <td>0.350</td>\n",
       "      <td>0.265</td>\n",
       "      <td>0.090</td>\n",
       "      <td>0.2255</td>\n",
       "      <td>0.0995</td>\n",
       "      <td>0.0485</td>\n",
       "      <td>0.0700</td>\n",
       "      <td>7</td>\n",
       "      <td>0</td>\n",
       "      <td>0</td>\n",
       "      <td>1</td>\n",
       "    </tr>\n",
       "    <tr>\n",
       "      <th>2</th>\n",
       "      <td>0.530</td>\n",
       "      <td>0.420</td>\n",
       "      <td>0.135</td>\n",
       "      <td>0.6770</td>\n",
       "      <td>0.2565</td>\n",
       "      <td>0.1415</td>\n",
       "      <td>0.2100</td>\n",
       "      <td>9</td>\n",
       "      <td>1</td>\n",
       "      <td>0</td>\n",
       "      <td>0</td>\n",
       "    </tr>\n",
       "    <tr>\n",
       "      <th>3</th>\n",
       "      <td>0.440</td>\n",
       "      <td>0.365</td>\n",
       "      <td>0.125</td>\n",
       "      <td>0.5160</td>\n",
       "      <td>0.2155</td>\n",
       "      <td>0.1140</td>\n",
       "      <td>0.1550</td>\n",
       "      <td>10</td>\n",
       "      <td>0</td>\n",
       "      <td>0</td>\n",
       "      <td>1</td>\n",
       "    </tr>\n",
       "    <tr>\n",
       "      <th>4</th>\n",
       "      <td>0.330</td>\n",
       "      <td>0.255</td>\n",
       "      <td>0.080</td>\n",
       "      <td>0.2050</td>\n",
       "      <td>0.0895</td>\n",
       "      <td>0.0395</td>\n",
       "      <td>0.0550</td>\n",
       "      <td>7</td>\n",
       "      <td>0</td>\n",
       "      <td>1</td>\n",
       "      <td>0</td>\n",
       "    </tr>\n",
       "    <tr>\n",
       "      <th>...</th>\n",
       "      <td>...</td>\n",
       "      <td>...</td>\n",
       "      <td>...</td>\n",
       "      <td>...</td>\n",
       "      <td>...</td>\n",
       "      <td>...</td>\n",
       "      <td>...</td>\n",
       "      <td>...</td>\n",
       "      <td>...</td>\n",
       "      <td>...</td>\n",
       "      <td>...</td>\n",
       "    </tr>\n",
       "    <tr>\n",
       "      <th>4172</th>\n",
       "      <td>0.565</td>\n",
       "      <td>0.450</td>\n",
       "      <td>0.165</td>\n",
       "      <td>0.8870</td>\n",
       "      <td>0.3700</td>\n",
       "      <td>0.2390</td>\n",
       "      <td>0.2490</td>\n",
       "      <td>11</td>\n",
       "      <td>1</td>\n",
       "      <td>0</td>\n",
       "      <td>0</td>\n",
       "    </tr>\n",
       "    <tr>\n",
       "      <th>4173</th>\n",
       "      <td>0.590</td>\n",
       "      <td>0.440</td>\n",
       "      <td>0.135</td>\n",
       "      <td>0.9660</td>\n",
       "      <td>0.4390</td>\n",
       "      <td>0.2145</td>\n",
       "      <td>0.2605</td>\n",
       "      <td>10</td>\n",
       "      <td>0</td>\n",
       "      <td>0</td>\n",
       "      <td>1</td>\n",
       "    </tr>\n",
       "    <tr>\n",
       "      <th>4174</th>\n",
       "      <td>0.600</td>\n",
       "      <td>0.475</td>\n",
       "      <td>0.205</td>\n",
       "      <td>1.1760</td>\n",
       "      <td>0.5255</td>\n",
       "      <td>0.2875</td>\n",
       "      <td>0.3080</td>\n",
       "      <td>9</td>\n",
       "      <td>0</td>\n",
       "      <td>0</td>\n",
       "      <td>1</td>\n",
       "    </tr>\n",
       "    <tr>\n",
       "      <th>4175</th>\n",
       "      <td>0.625</td>\n",
       "      <td>0.485</td>\n",
       "      <td>0.150</td>\n",
       "      <td>1.0945</td>\n",
       "      <td>0.5310</td>\n",
       "      <td>0.2610</td>\n",
       "      <td>0.2960</td>\n",
       "      <td>10</td>\n",
       "      <td>1</td>\n",
       "      <td>0</td>\n",
       "      <td>0</td>\n",
       "    </tr>\n",
       "    <tr>\n",
       "      <th>4176</th>\n",
       "      <td>0.710</td>\n",
       "      <td>0.555</td>\n",
       "      <td>0.195</td>\n",
       "      <td>1.9485</td>\n",
       "      <td>0.9455</td>\n",
       "      <td>0.3765</td>\n",
       "      <td>0.4950</td>\n",
       "      <td>12</td>\n",
       "      <td>0</td>\n",
       "      <td>0</td>\n",
       "      <td>1</td>\n",
       "    </tr>\n",
       "  </tbody>\n",
       "</table>\n",
       "<p>4177 rows × 11 columns</p>\n",
       "</div>"
      ],
      "text/plain": [
       "      LENGTH  DIAMETER  HEIGHT  WHOLE_WEIGHT  SHUCKED_WEIGHT  VISCERA_WEIGHT  \\\n",
       "0      0.455     0.365   0.095        0.5140          0.2245          0.1010   \n",
       "1      0.350     0.265   0.090        0.2255          0.0995          0.0485   \n",
       "2      0.530     0.420   0.135        0.6770          0.2565          0.1415   \n",
       "3      0.440     0.365   0.125        0.5160          0.2155          0.1140   \n",
       "4      0.330     0.255   0.080        0.2050          0.0895          0.0395   \n",
       "...      ...       ...     ...           ...             ...             ...   \n",
       "4172   0.565     0.450   0.165        0.8870          0.3700          0.2390   \n",
       "4173   0.590     0.440   0.135        0.9660          0.4390          0.2145   \n",
       "4174   0.600     0.475   0.205        1.1760          0.5255          0.2875   \n",
       "4175   0.625     0.485   0.150        1.0945          0.5310          0.2610   \n",
       "4176   0.710     0.555   0.195        1.9485          0.9455          0.3765   \n",
       "\n",
       "      SHELL_WEIGHT  RINGS  F  I  M  \n",
       "0           0.1500     15  0  0  1  \n",
       "1           0.0700      7  0  0  1  \n",
       "2           0.2100      9  1  0  0  \n",
       "3           0.1550     10  0  0  1  \n",
       "4           0.0550      7  0  1  0  \n",
       "...            ...    ... .. .. ..  \n",
       "4172        0.2490     11  1  0  0  \n",
       "4173        0.2605     10  0  0  1  \n",
       "4174        0.3080      9  0  0  1  \n",
       "4175        0.2960     10  1  0  0  \n",
       "4176        0.4950     12  0  0  1  \n",
       "\n",
       "[4177 rows x 11 columns]"
      ]
     },
     "execution_count": 16,
     "metadata": {},
     "output_type": "execute_result"
    }
   ],
   "source": [
    "encode= pd.get_dummies(DF['SEX'])\n",
    "DF=DF.join(encode)\n",
    "DF=DF.drop('SEX',1)\n",
    "DF"
   ]
  },
  {
   "cell_type": "code",
   "execution_count": null,
   "id": "c82f91b5",
   "metadata": {},
   "outputs": [
    {
     "data": {
      "text/plain": [
       "0       15\n",
       "1        7\n",
       "2        9\n",
       "3       10\n",
       "4        7\n",
       "        ..\n",
       "4172    11\n",
       "4173    10\n",
       "4174     9\n",
       "4175    10\n",
       "4176    12\n",
       "Name: RINGS, Length: 4177, dtype: category\n",
       "Categories (28, int64): [1, 2, 3, 4, ..., 25, 26, 27, 29]"
      ]
     },
     "execution_count": 17,
     "metadata": {},
     "output_type": "execute_result"
    }
   ],
   "source": [
    "DF.RINGS.astype('category')"
   ]
  },
  {
   "cell_type": "code",
   "execution_count": null,
   "id": "f855016e",
   "metadata": {},
   "outputs": [],
   "source": [
    "df=DF.copy()"
   ]
  },
  {
   "cell_type": "code",
   "execution_count": null,
   "id": "fbb49f92",
   "metadata": {},
   "outputs": [],
   "source": [
    "df.RINGS=np.where(df.RINGS.values<=10,0,1)"
   ]
  },
  {
   "cell_type": "code",
   "execution_count": null,
   "id": "e4a94a83",
   "metadata": {
    "scrolled": false
   },
   "outputs": [
    {
     "data": {
      "text/html": [
       "<div>\n",
       "<style scoped>\n",
       "    .dataframe tbody tr th:only-of-type {\n",
       "        vertical-align: middle;\n",
       "    }\n",
       "\n",
       "    .dataframe tbody tr th {\n",
       "        vertical-align: top;\n",
       "    }\n",
       "\n",
       "    .dataframe thead th {\n",
       "        text-align: right;\n",
       "    }\n",
       "</style>\n",
       "<table border=\"1\" class=\"dataframe\">\n",
       "  <thead>\n",
       "    <tr style=\"text-align: right;\">\n",
       "      <th></th>\n",
       "      <th>LENGTH</th>\n",
       "      <th>DIAMETER</th>\n",
       "      <th>HEIGHT</th>\n",
       "      <th>WHOLE_WEIGHT</th>\n",
       "      <th>SHUCKED_WEIGHT</th>\n",
       "      <th>VISCERA_WEIGHT</th>\n",
       "      <th>SHELL_WEIGHT</th>\n",
       "      <th>RINGS</th>\n",
       "      <th>F</th>\n",
       "      <th>I</th>\n",
       "      <th>M</th>\n",
       "    </tr>\n",
       "  </thead>\n",
       "  <tbody>\n",
       "    <tr>\n",
       "      <th>0</th>\n",
       "      <td>0.455</td>\n",
       "      <td>0.365</td>\n",
       "      <td>0.095</td>\n",
       "      <td>0.5140</td>\n",
       "      <td>0.2245</td>\n",
       "      <td>0.1010</td>\n",
       "      <td>0.1500</td>\n",
       "      <td>1</td>\n",
       "      <td>0</td>\n",
       "      <td>0</td>\n",
       "      <td>1</td>\n",
       "    </tr>\n",
       "    <tr>\n",
       "      <th>1</th>\n",
       "      <td>0.350</td>\n",
       "      <td>0.265</td>\n",
       "      <td>0.090</td>\n",
       "      <td>0.2255</td>\n",
       "      <td>0.0995</td>\n",
       "      <td>0.0485</td>\n",
       "      <td>0.0700</td>\n",
       "      <td>0</td>\n",
       "      <td>0</td>\n",
       "      <td>0</td>\n",
       "      <td>1</td>\n",
       "    </tr>\n",
       "    <tr>\n",
       "      <th>2</th>\n",
       "      <td>0.530</td>\n",
       "      <td>0.420</td>\n",
       "      <td>0.135</td>\n",
       "      <td>0.6770</td>\n",
       "      <td>0.2565</td>\n",
       "      <td>0.1415</td>\n",
       "      <td>0.2100</td>\n",
       "      <td>0</td>\n",
       "      <td>1</td>\n",
       "      <td>0</td>\n",
       "      <td>0</td>\n",
       "    </tr>\n",
       "    <tr>\n",
       "      <th>3</th>\n",
       "      <td>0.440</td>\n",
       "      <td>0.365</td>\n",
       "      <td>0.125</td>\n",
       "      <td>0.5160</td>\n",
       "      <td>0.2155</td>\n",
       "      <td>0.1140</td>\n",
       "      <td>0.1550</td>\n",
       "      <td>0</td>\n",
       "      <td>0</td>\n",
       "      <td>0</td>\n",
       "      <td>1</td>\n",
       "    </tr>\n",
       "    <tr>\n",
       "      <th>4</th>\n",
       "      <td>0.330</td>\n",
       "      <td>0.255</td>\n",
       "      <td>0.080</td>\n",
       "      <td>0.2050</td>\n",
       "      <td>0.0895</td>\n",
       "      <td>0.0395</td>\n",
       "      <td>0.0550</td>\n",
       "      <td>0</td>\n",
       "      <td>0</td>\n",
       "      <td>1</td>\n",
       "      <td>0</td>\n",
       "    </tr>\n",
       "    <tr>\n",
       "      <th>...</th>\n",
       "      <td>...</td>\n",
       "      <td>...</td>\n",
       "      <td>...</td>\n",
       "      <td>...</td>\n",
       "      <td>...</td>\n",
       "      <td>...</td>\n",
       "      <td>...</td>\n",
       "      <td>...</td>\n",
       "      <td>...</td>\n",
       "      <td>...</td>\n",
       "      <td>...</td>\n",
       "    </tr>\n",
       "    <tr>\n",
       "      <th>4172</th>\n",
       "      <td>0.565</td>\n",
       "      <td>0.450</td>\n",
       "      <td>0.165</td>\n",
       "      <td>0.8870</td>\n",
       "      <td>0.3700</td>\n",
       "      <td>0.2390</td>\n",
       "      <td>0.2490</td>\n",
       "      <td>1</td>\n",
       "      <td>1</td>\n",
       "      <td>0</td>\n",
       "      <td>0</td>\n",
       "    </tr>\n",
       "    <tr>\n",
       "      <th>4173</th>\n",
       "      <td>0.590</td>\n",
       "      <td>0.440</td>\n",
       "      <td>0.135</td>\n",
       "      <td>0.9660</td>\n",
       "      <td>0.4390</td>\n",
       "      <td>0.2145</td>\n",
       "      <td>0.2605</td>\n",
       "      <td>0</td>\n",
       "      <td>0</td>\n",
       "      <td>0</td>\n",
       "      <td>1</td>\n",
       "    </tr>\n",
       "    <tr>\n",
       "      <th>4174</th>\n",
       "      <td>0.600</td>\n",
       "      <td>0.475</td>\n",
       "      <td>0.205</td>\n",
       "      <td>1.1760</td>\n",
       "      <td>0.5255</td>\n",
       "      <td>0.2875</td>\n",
       "      <td>0.3080</td>\n",
       "      <td>0</td>\n",
       "      <td>0</td>\n",
       "      <td>0</td>\n",
       "      <td>1</td>\n",
       "    </tr>\n",
       "    <tr>\n",
       "      <th>4175</th>\n",
       "      <td>0.625</td>\n",
       "      <td>0.485</td>\n",
       "      <td>0.150</td>\n",
       "      <td>1.0945</td>\n",
       "      <td>0.5310</td>\n",
       "      <td>0.2610</td>\n",
       "      <td>0.2960</td>\n",
       "      <td>0</td>\n",
       "      <td>1</td>\n",
       "      <td>0</td>\n",
       "      <td>0</td>\n",
       "    </tr>\n",
       "    <tr>\n",
       "      <th>4176</th>\n",
       "      <td>0.710</td>\n",
       "      <td>0.555</td>\n",
       "      <td>0.195</td>\n",
       "      <td>1.9485</td>\n",
       "      <td>0.9455</td>\n",
       "      <td>0.3765</td>\n",
       "      <td>0.4950</td>\n",
       "      <td>1</td>\n",
       "      <td>0</td>\n",
       "      <td>0</td>\n",
       "      <td>1</td>\n",
       "    </tr>\n",
       "  </tbody>\n",
       "</table>\n",
       "<p>4177 rows × 11 columns</p>\n",
       "</div>"
      ],
      "text/plain": [
       "      LENGTH  DIAMETER  HEIGHT  WHOLE_WEIGHT  SHUCKED_WEIGHT  VISCERA_WEIGHT  \\\n",
       "0      0.455     0.365   0.095        0.5140          0.2245          0.1010   \n",
       "1      0.350     0.265   0.090        0.2255          0.0995          0.0485   \n",
       "2      0.530     0.420   0.135        0.6770          0.2565          0.1415   \n",
       "3      0.440     0.365   0.125        0.5160          0.2155          0.1140   \n",
       "4      0.330     0.255   0.080        0.2050          0.0895          0.0395   \n",
       "...      ...       ...     ...           ...             ...             ...   \n",
       "4172   0.565     0.450   0.165        0.8870          0.3700          0.2390   \n",
       "4173   0.590     0.440   0.135        0.9660          0.4390          0.2145   \n",
       "4174   0.600     0.475   0.205        1.1760          0.5255          0.2875   \n",
       "4175   0.625     0.485   0.150        1.0945          0.5310          0.2610   \n",
       "4176   0.710     0.555   0.195        1.9485          0.9455          0.3765   \n",
       "\n",
       "      SHELL_WEIGHT  RINGS  F  I  M  \n",
       "0           0.1500      1  0  0  1  \n",
       "1           0.0700      0  0  0  1  \n",
       "2           0.2100      0  1  0  0  \n",
       "3           0.1550      0  0  0  1  \n",
       "4           0.0550      0  0  1  0  \n",
       "...            ...    ... .. .. ..  \n",
       "4172        0.2490      1  1  0  0  \n",
       "4173        0.2605      0  0  0  1  \n",
       "4174        0.3080      0  0  0  1  \n",
       "4175        0.2960      0  1  0  0  \n",
       "4176        0.4950      1  0  0  1  \n",
       "\n",
       "[4177 rows x 11 columns]"
      ]
     },
     "execution_count": 23,
     "metadata": {},
     "output_type": "execute_result"
    }
   ],
   "source": [
    "df"
   ]
  },
  {
   "cell_type": "markdown",
   "id": "456ce37d",
   "metadata": {},
   "source": [
    "### PREVALENCE RATE"
   ]
  },
  {
   "cell_type": "code",
   "execution_count": null,
   "id": "41bb691a",
   "metadata": {},
   "outputs": [],
   "source": [
    "df['RINGS'].value_counts(normalize=True)*100"
   ]
  },
  {
   "cell_type": "markdown",
   "id": "b5119611",
   "metadata": {},
   "source": [
    "###### Since the minority class is more than 25%, we assume the evaluation metrics is accuracy."
   ]
  },
  {
   "cell_type": "code",
   "execution_count": null,
   "id": "2ce63067",
   "metadata": {},
   "outputs": [],
   "source": [
    "from sklearn.model_selection import train_test_split\n"
   ]
  },
  {
   "cell_type": "code",
   "execution_count": null,
   "id": "c79a012d",
   "metadata": {},
   "outputs": [],
   "source": [
    "x=df.drop('RINGS',axis=1)\n",
    "y=df.iloc[:,-4]\n"
   ]
  },
  {
   "cell_type": "markdown",
   "id": "6d678b21",
   "metadata": {},
   "source": [
    "### CHECK PREVELANCE RATE FOR YTRAIN AND YTEST"
   ]
  },
  {
   "cell_type": "code",
   "execution_count": null,
   "id": "3da9414d",
   "metadata": {
    "scrolled": true
   },
   "outputs": [],
   "source": [
    "ytrain.value_counts(normalize=True)"
   ]
  },
  {
   "cell_type": "code",
   "execution_count": null,
   "id": "3af17688",
   "metadata": {
    "scrolled": false
   },
   "outputs": [],
   "source": [
    "ytest.value_counts(normalize=True)"
   ]
  },
  {
   "cell_type": "markdown",
   "id": "67d0086e",
   "metadata": {},
   "source": [
    "the prevalance rate is changing for ytest and ytrain but it remains balanced dataset as the deviation is very minimal."
   ]
  },
  {
   "cell_type": "markdown",
   "id": "3e63b3c2",
   "metadata": {},
   "source": [
    "# LOGISTIC REGRESSION\n"
   ]
  },
  {
   "cell_type": "code",
   "execution_count": null,
   "id": "f8b9a85a",
   "metadata": {},
   "outputs": [],
   "source": [
    "from sklearn.linear_model import LogisticRegression"
   ]
  },
  {
   "cell_type": "code",
   "execution_count": null,
   "id": "5b92803f",
   "metadata": {},
   "outputs": [],
   "source": [
    "logistic= LogisticRegression()"
   ]
  },
  {
   "cell_type": "code",
   "execution_count": null,
   "id": "c6295c4f",
   "metadata": {},
   "outputs": [],
   "source": [
    "logistic.fit(xtrain,ytrain)"
   ]
  },
  {
   "cell_type": "code",
   "execution_count": null,
   "id": "38a22d41",
   "metadata": {},
   "outputs": [],
   "source": [
    "log_train_pred=logistic.predict(xtrain)\n",
    "log_test_pred=logistic.predict(xtest)\n",
    "log_train_pred,log_test_pred"
   ]
  },
  {
   "cell_type": "code",
   "execution_count": null,
   "id": "4dba1fe9",
   "metadata": {},
   "outputs": [],
   "source": [
    "log_train_pred_prob=logistic.predict_proba(xtrain)\n",
    "log_test_pred_prob=logistic.predict_proba(xtest)\n",
    "log_train_pred_prob"
   ]
  },
  {
   "cell_type": "markdown",
   "id": "cbaf1027",
   "metadata": {},
   "source": [
    "### Check the predict_prob values -first will be failure rate(0), second value will be success rate(1)  , if the second values are above threshold it will show 1 in pred else 0 if failure"
   ]
  },
  {
   "cell_type": "code",
   "execution_count": null,
   "id": "62c0262f",
   "metadata": {},
   "outputs": [],
   "source": [
    "check_train= np.argmax(log_train_pred_prob,axis=1)\n",
    "check_train\n"
   ]
  },
  {
   "cell_type": "code",
   "execution_count": null,
   "id": "195774e3",
   "metadata": {},
   "outputs": [],
   "source": [
    "check_test= np.argmax(log_test_pred_prob,axis=1)\n",
    "check_test"
   ]
  },
  {
   "cell_type": "markdown",
   "id": "d366724e",
   "metadata": {},
   "source": [
    "### EVALUATION METRICS"
   ]
  },
  {
   "cell_type": "code",
   "execution_count": null,
   "id": "b7be62bb",
   "metadata": {},
   "outputs": [],
   "source": [
    "from sklearn.metrics import accuracy_score,confusion_matrix,classification_report"
   ]
  },
  {
   "cell_type": "code",
   "execution_count": null,
   "id": "4c136205",
   "metadata": {},
   "outputs": [],
   "source": [
    "accuracy_score(ytrain,log_train_pred)"
   ]
  },
  {
   "cell_type": "code",
   "execution_count": null,
   "id": "66438424",
   "metadata": {},
   "outputs": [],
   "source": [
    "accuracy_score(ytest,log_test_pred)"
   ]
  },
  {
   "cell_type": "markdown",
   "id": "9b92b81a",
   "metadata": {},
   "source": [
    "if the difference in accuracy score is not crossing -5 or +5(because we assume 95% confidence level) then we can say the model is not underfitting or overfitting"
   ]
  },
  {
   "cell_type": "code",
   "execution_count": null,
   "id": "45c08fb1",
   "metadata": {
    "scrolled": true
   },
   "outputs": [],
   "source": [
    "confusion_matrix(ytrain,log_train_pred)\n"
   ]
  },
  {
   "cell_type": "markdown",
   "id": "7f34731c",
   "metadata": {},
   "source": [
    "### false negative(466) is more in comparison to false positive(230), so the desired metrics is recall."
   ]
  },
  {
   "cell_type": "code",
   "execution_count": null,
   "id": "4de679d6",
   "metadata": {
    "scrolled": true
   },
   "outputs": [],
   "source": [
    "confusion_matrix(ytest,log_test_pred)\n",
    "#test is only to view the results, tuning/changes are to be made only in train."
   ]
  },
  {
   "cell_type": "code",
   "execution_count": null,
   "id": "c438cf04",
   "metadata": {},
   "outputs": [],
   "source": [
    "print(classification_report(ytrain,log_train_pred))"
   ]
  },
  {
   "cell_type": "code",
   "execution_count": null,
   "id": "9db04cb2",
   "metadata": {},
   "outputs": [],
   "source": [
    "print(classification_report(ytest,log_test_pred))"
   ]
  },
  {
   "cell_type": "code",
   "execution_count": null,
   "id": "230c5d5e",
   "metadata": {},
   "outputs": [],
   "source": [
    "\n",
    "\n",
    "crossval= cross_val(logistic,xtrain,ytrain,cv=5)"
   ]
  },
  {
   "cell_type": "code",
   "execution_count": null,
   "id": "0c052a54",
   "metadata": {},
   "outputs": [],
   "source": [
    "sns.boxplot(crossval)"
   ]
  },
  {
   "cell_type": "code",
   "execution_count": null,
   "id": "3eca45f3",
   "metadata": {},
   "outputs": [],
   "source": [
    "import statsmodels.api as sm\n"
   ]
  },
  {
   "cell_type": "code",
   "execution_count": null,
   "id": "3ef859c8",
   "metadata": {},
   "outputs": [],
   "source": [
    "xtrain1= sm.add_constant(xtrain)"
   ]
  },
  {
   "cell_type": "code",
   "execution_count": null,
   "id": "bd239763",
   "metadata": {},
   "outputs": [],
   "source": [
    "model = sm.Logit(ytrain,xtrain1).fit()"
   ]
  },
  {
   "cell_type": "code",
   "execution_count": null,
   "id": "cfdb8541",
   "metadata": {},
   "outputs": [],
   "source": [
    "model.summary()"
   ]
  },
  {
   "cell_type": "code",
   "execution_count": null,
   "id": "bb192a66",
   "metadata": {},
   "outputs": [],
   "source": [
    "df1= DATA.copy()\n",
    "\n",
    "df1.RINGS=np.where(df1.RINGS.values<=10,0,1)"
   ]
  },
  {
   "cell_type": "code",
   "execution_count": null,
   "id": "182e7ce2",
   "metadata": {},
   "outputs": [],
   "source": [
    "X= df1.iloc[:,:-1]\n",
    "Y= df1.iloc[:,-1]\n"
   ]
  },
  {
   "cell_type": "code",
   "execution_count": null,
   "id": "eb02f993",
   "metadata": {},
   "outputs": [],
   "source": [
    "x_train,x_test,y_train,y_test= train_test_split(X,Y,test_size=0.3, stratify= Y)\n",
    "\n",
    "x_train1 = pd.get_dummies(x_train,drop_first=True)\n",
    "x_test1 =pd.get_dummies(x_test,drop_first=True)"
   ]
  },
  {
   "cell_type": "code",
   "execution_count": null,
   "id": "a15d8313",
   "metadata": {},
   "outputs": [],
   "source": [
    "import statsmodels.api as sm\n"
   ]
  },
  {
   "cell_type": "code",
   "execution_count": null,
   "id": "8696829c",
   "metadata": {},
   "outputs": [
    {
     "data": {
      "text/plain": [
       "1517    0\n",
       "2501    0\n",
       "1009    0\n",
       "4026    0\n",
       "3463    1\n",
       "       ..\n",
       "934     0\n",
       "4006    0\n",
       "3278    1\n",
       "3804    0\n",
       "2048    0\n",
       "Name: RINGS, Length: 2923, dtype: int32"
      ]
     },
     "execution_count": 36,
     "metadata": {},
     "output_type": "execute_result"
    }
   ],
   "source": [
    "y_train"
   ]
  },
  {
   "cell_type": "code",
   "execution_count": null,
   "id": "3f41827f",
   "metadata": {},
   "outputs": [],
   "source": [
    "x_train2 = sm.add_constant(x_train1)\n",
    "sm.Logit(y_train,x_train2).fit().summary()"
   ]
  },
  {
   "cell_type": "code",
   "execution_count": null,
   "id": "5e80cd99",
   "metadata": {
    "scrolled": true
   },
   "outputs": [],
   "source": [
    "\n",
    "from sklearn.preprocessing  import MinMaxScaler\n",
    "scaler = MinMaxScaler()\n",
    "x_train3= scaler.fit_transform(x_train1)\n",
    "x_test3= scaler.transform(x_test1)\n"
   ]
  },
  {
   "cell_type": "code",
   "execution_count": null,
   "id": "dafb9e11",
   "metadata": {},
   "outputs": [],
   "source": [
    "x_train4= sm.add_constant(x_train1)"
   ]
  },
  {
   "cell_type": "code",
   "execution_count": null,
   "id": "8a3646d4",
   "metadata": {},
   "outputs": [],
   "source": [
    "sm.Logit(y_train,x_train4).fit().summary()\n"
   ]
  },
  {
   "cell_type": "markdown",
   "id": "6e457d8b",
   "metadata": {},
   "source": [
    "K- NEAREST NEIGHBOURS"
   ]
  },
  {
   "cell_type": "code",
   "execution_count": null,
   "id": "9269e45c",
   "metadata": {},
   "outputs": [],
   "source": [
    "import numpy as np \n",
    "import pandas as pd\n",
    "\n",
    "from sklearn.neighbors import KNeighborsClassifier\n",
    "from sklearn.metrics import classification_report, confusion_matrix"
   ]
  },
  {
   "cell_type": "code",
   "execution_count": null,
   "id": "9689ab6c",
   "metadata": {},
   "outputs": [
    {
     "data": {
      "text/html": [
       "<div>\n",
       "<style scoped>\n",
       "    .dataframe tbody tr th:only-of-type {\n",
       "        vertical-align: middle;\n",
       "    }\n",
       "\n",
       "    .dataframe tbody tr th {\n",
       "        vertical-align: top;\n",
       "    }\n",
       "\n",
       "    .dataframe thead th {\n",
       "        text-align: right;\n",
       "    }\n",
       "</style>\n",
       "<table border=\"1\" class=\"dataframe\">\n",
       "  <thead>\n",
       "    <tr style=\"text-align: right;\">\n",
       "      <th></th>\n",
       "      <th>SEX</th>\n",
       "      <th>LENGTH</th>\n",
       "      <th>DIAMETER</th>\n",
       "      <th>HEIGHT</th>\n",
       "      <th>WHOLE_WEIGHT</th>\n",
       "      <th>SHUCKED_WEIGHT</th>\n",
       "      <th>VISCERA_WEIGHT</th>\n",
       "      <th>SHELL_WEIGHT</th>\n",
       "      <th>RINGS</th>\n",
       "    </tr>\n",
       "  </thead>\n",
       "  <tbody>\n",
       "    <tr>\n",
       "      <th>0</th>\n",
       "      <td>M</td>\n",
       "      <td>0.455</td>\n",
       "      <td>0.365</td>\n",
       "      <td>0.095</td>\n",
       "      <td>0.5140</td>\n",
       "      <td>0.2245</td>\n",
       "      <td>0.1010</td>\n",
       "      <td>0.150</td>\n",
       "      <td>1</td>\n",
       "    </tr>\n",
       "    <tr>\n",
       "      <th>1</th>\n",
       "      <td>M</td>\n",
       "      <td>0.350</td>\n",
       "      <td>0.265</td>\n",
       "      <td>0.090</td>\n",
       "      <td>0.2255</td>\n",
       "      <td>0.0995</td>\n",
       "      <td>0.0485</td>\n",
       "      <td>0.070</td>\n",
       "      <td>0</td>\n",
       "    </tr>\n",
       "    <tr>\n",
       "      <th>2</th>\n",
       "      <td>F</td>\n",
       "      <td>0.530</td>\n",
       "      <td>0.420</td>\n",
       "      <td>0.135</td>\n",
       "      <td>0.6770</td>\n",
       "      <td>0.2565</td>\n",
       "      <td>0.1415</td>\n",
       "      <td>0.210</td>\n",
       "      <td>0</td>\n",
       "    </tr>\n",
       "    <tr>\n",
       "      <th>3</th>\n",
       "      <td>M</td>\n",
       "      <td>0.440</td>\n",
       "      <td>0.365</td>\n",
       "      <td>0.125</td>\n",
       "      <td>0.5160</td>\n",
       "      <td>0.2155</td>\n",
       "      <td>0.1140</td>\n",
       "      <td>0.155</td>\n",
       "      <td>0</td>\n",
       "    </tr>\n",
       "    <tr>\n",
       "      <th>4</th>\n",
       "      <td>I</td>\n",
       "      <td>0.330</td>\n",
       "      <td>0.255</td>\n",
       "      <td>0.080</td>\n",
       "      <td>0.2050</td>\n",
       "      <td>0.0895</td>\n",
       "      <td>0.0395</td>\n",
       "      <td>0.055</td>\n",
       "      <td>0</td>\n",
       "    </tr>\n",
       "  </tbody>\n",
       "</table>\n",
       "</div>"
      ],
      "text/plain": [
       "  SEX  LENGTH  DIAMETER  HEIGHT  WHOLE_WEIGHT  SHUCKED_WEIGHT  VISCERA_WEIGHT  \\\n",
       "0   M   0.455     0.365   0.095        0.5140          0.2245          0.1010   \n",
       "1   M   0.350     0.265   0.090        0.2255          0.0995          0.0485   \n",
       "2   F   0.530     0.420   0.135        0.6770          0.2565          0.1415   \n",
       "3   M   0.440     0.365   0.125        0.5160          0.2155          0.1140   \n",
       "4   I   0.330     0.255   0.080        0.2050          0.0895          0.0395   \n",
       "\n",
       "   SHELL_WEIGHT  RINGS  \n",
       "0         0.150      1  \n",
       "1         0.070      0  \n",
       "2         0.210      0  \n",
       "3         0.155      0  \n",
       "4         0.055      0  "
      ]
     },
     "execution_count": 28,
     "metadata": {},
     "output_type": "execute_result"
    }
   ],
   "source": [
    "df1.head()"
   ]
  },
  {
   "cell_type": "code",
   "execution_count": null,
   "id": "57fcc105",
   "metadata": {},
   "outputs": [],
   "source": [
    "knn= KNeighborsClassifier()"
   ]
  },
  {
   "cell_type": "code",
   "execution_count": null,
   "id": "4b5f67be",
   "metadata": {},
   "outputs": [
    {
     "data": {
      "text/html": [
       "<div>\n",
       "<style scoped>\n",
       "    .dataframe tbody tr th:only-of-type {\n",
       "        vertical-align: middle;\n",
       "    }\n",
       "\n",
       "    .dataframe tbody tr th {\n",
       "        vertical-align: top;\n",
       "    }\n",
       "\n",
       "    .dataframe thead th {\n",
       "        text-align: right;\n",
       "    }\n",
       "</style>\n",
       "<table border=\"1\" class=\"dataframe\">\n",
       "  <thead>\n",
       "    <tr style=\"text-align: right;\">\n",
       "      <th></th>\n",
       "      <th>LENGTH</th>\n",
       "      <th>DIAMETER</th>\n",
       "      <th>HEIGHT</th>\n",
       "      <th>WHOLE_WEIGHT</th>\n",
       "      <th>SHUCKED_WEIGHT</th>\n",
       "      <th>VISCERA_WEIGHT</th>\n",
       "      <th>SHELL_WEIGHT</th>\n",
       "      <th>SEX_I</th>\n",
       "      <th>SEX_M</th>\n",
       "    </tr>\n",
       "  </thead>\n",
       "  <tbody>\n",
       "    <tr>\n",
       "      <th>1517</th>\n",
       "      <td>0.665</td>\n",
       "      <td>0.515</td>\n",
       "      <td>0.180</td>\n",
       "      <td>1.3890</td>\n",
       "      <td>0.5945</td>\n",
       "      <td>0.3240</td>\n",
       "      <td>0.3950</td>\n",
       "      <td>0</td>\n",
       "      <td>0</td>\n",
       "    </tr>\n",
       "    <tr>\n",
       "      <th>2501</th>\n",
       "      <td>0.330</td>\n",
       "      <td>0.260</td>\n",
       "      <td>0.080</td>\n",
       "      <td>0.2000</td>\n",
       "      <td>0.0625</td>\n",
       "      <td>0.0500</td>\n",
       "      <td>0.0700</td>\n",
       "      <td>0</td>\n",
       "      <td>0</td>\n",
       "    </tr>\n",
       "    <tr>\n",
       "      <th>1009</th>\n",
       "      <td>0.615</td>\n",
       "      <td>0.480</td>\n",
       "      <td>0.160</td>\n",
       "      <td>1.2525</td>\n",
       "      <td>0.5850</td>\n",
       "      <td>0.2595</td>\n",
       "      <td>0.3300</td>\n",
       "      <td>0</td>\n",
       "      <td>0</td>\n",
       "    </tr>\n",
       "    <tr>\n",
       "      <th>4026</th>\n",
       "      <td>0.365</td>\n",
       "      <td>0.280</td>\n",
       "      <td>0.090</td>\n",
       "      <td>0.1960</td>\n",
       "      <td>0.0865</td>\n",
       "      <td>0.0360</td>\n",
       "      <td>0.0605</td>\n",
       "      <td>1</td>\n",
       "      <td>0</td>\n",
       "    </tr>\n",
       "    <tr>\n",
       "      <th>3463</th>\n",
       "      <td>0.625</td>\n",
       "      <td>0.485</td>\n",
       "      <td>0.170</td>\n",
       "      <td>1.4370</td>\n",
       "      <td>0.5855</td>\n",
       "      <td>0.2930</td>\n",
       "      <td>0.4750</td>\n",
       "      <td>0</td>\n",
       "      <td>1</td>\n",
       "    </tr>\n",
       "    <tr>\n",
       "      <th>...</th>\n",
       "      <td>...</td>\n",
       "      <td>...</td>\n",
       "      <td>...</td>\n",
       "      <td>...</td>\n",
       "      <td>...</td>\n",
       "      <td>...</td>\n",
       "      <td>...</td>\n",
       "      <td>...</td>\n",
       "      <td>...</td>\n",
       "    </tr>\n",
       "    <tr>\n",
       "      <th>934</th>\n",
       "      <td>0.450</td>\n",
       "      <td>0.355</td>\n",
       "      <td>0.105</td>\n",
       "      <td>0.4445</td>\n",
       "      <td>0.1970</td>\n",
       "      <td>0.0930</td>\n",
       "      <td>0.1335</td>\n",
       "      <td>1</td>\n",
       "      <td>0</td>\n",
       "    </tr>\n",
       "    <tr>\n",
       "      <th>4006</th>\n",
       "      <td>0.585</td>\n",
       "      <td>0.465</td>\n",
       "      <td>0.150</td>\n",
       "      <td>0.9800</td>\n",
       "      <td>0.4315</td>\n",
       "      <td>0.2545</td>\n",
       "      <td>0.2470</td>\n",
       "      <td>0</td>\n",
       "      <td>1</td>\n",
       "    </tr>\n",
       "    <tr>\n",
       "      <th>3278</th>\n",
       "      <td>0.525</td>\n",
       "      <td>0.415</td>\n",
       "      <td>0.160</td>\n",
       "      <td>0.6445</td>\n",
       "      <td>0.2600</td>\n",
       "      <td>0.1575</td>\n",
       "      <td>0.2200</td>\n",
       "      <td>0</td>\n",
       "      <td>1</td>\n",
       "    </tr>\n",
       "    <tr>\n",
       "      <th>3804</th>\n",
       "      <td>0.355</td>\n",
       "      <td>0.270</td>\n",
       "      <td>0.100</td>\n",
       "      <td>0.2255</td>\n",
       "      <td>0.1100</td>\n",
       "      <td>0.0420</td>\n",
       "      <td>0.0640</td>\n",
       "      <td>1</td>\n",
       "      <td>0</td>\n",
       "    </tr>\n",
       "    <tr>\n",
       "      <th>2048</th>\n",
       "      <td>0.440</td>\n",
       "      <td>0.305</td>\n",
       "      <td>0.115</td>\n",
       "      <td>0.3790</td>\n",
       "      <td>0.1620</td>\n",
       "      <td>0.0910</td>\n",
       "      <td>0.1100</td>\n",
       "      <td>1</td>\n",
       "      <td>0</td>\n",
       "    </tr>\n",
       "  </tbody>\n",
       "</table>\n",
       "<p>2923 rows × 9 columns</p>\n",
       "</div>"
      ],
      "text/plain": [
       "      LENGTH  DIAMETER  HEIGHT  WHOLE_WEIGHT  SHUCKED_WEIGHT  VISCERA_WEIGHT  \\\n",
       "1517   0.665     0.515   0.180        1.3890          0.5945          0.3240   \n",
       "2501   0.330     0.260   0.080        0.2000          0.0625          0.0500   \n",
       "1009   0.615     0.480   0.160        1.2525          0.5850          0.2595   \n",
       "4026   0.365     0.280   0.090        0.1960          0.0865          0.0360   \n",
       "3463   0.625     0.485   0.170        1.4370          0.5855          0.2930   \n",
       "...      ...       ...     ...           ...             ...             ...   \n",
       "934    0.450     0.355   0.105        0.4445          0.1970          0.0930   \n",
       "4006   0.585     0.465   0.150        0.9800          0.4315          0.2545   \n",
       "3278   0.525     0.415   0.160        0.6445          0.2600          0.1575   \n",
       "3804   0.355     0.270   0.100        0.2255          0.1100          0.0420   \n",
       "2048   0.440     0.305   0.115        0.3790          0.1620          0.0910   \n",
       "\n",
       "      SHELL_WEIGHT  SEX_I  SEX_M  \n",
       "1517        0.3950      0      0  \n",
       "2501        0.0700      0      0  \n",
       "1009        0.3300      0      0  \n",
       "4026        0.0605      1      0  \n",
       "3463        0.4750      0      1  \n",
       "...            ...    ...    ...  \n",
       "934         0.1335      1      0  \n",
       "4006        0.2470      0      1  \n",
       "3278        0.2200      0      1  \n",
       "3804        0.0640      1      0  \n",
       "2048        0.1100      1      0  \n",
       "\n",
       "[2923 rows x 9 columns]"
      ]
     },
     "execution_count": 105,
     "metadata": {},
     "output_type": "execute_result"
    }
   ],
   "source": [
    "knn.fit(x_train1,y_train)\n",
    "x_train1"
   ]
  },
  {
   "cell_type": "code",
   "execution_count": null,
   "id": "7e8d0a9e",
   "metadata": {},
   "outputs": [],
   "source": [
    "knn_train_pred= knn.predict(x_train1)\n",
    "knn_test_pred= knn.predict(x_test1)"
   ]
  },
  {
   "cell_type": "code",
   "execution_count": null,
   "id": "b7960ab4",
   "metadata": {},
   "outputs": [
    {
     "name": "stdout",
     "output_type": "stream",
     "text": [
      "CONFUSION MATRIX: TRAIN DATA [[1726  272]\n",
      " [ 184  741]]\n",
      "--------------------------------------------------\n",
      "CONFUSION MATRIX: VALIDATION DATA [[688 173]\n",
      " [132 261]]\n"
     ]
    }
   ],
   "source": [
    "print('CONFUSION MATRIX: TRAIN DATA',confusion_matrix(knn_train_pred,y_train))\n",
    "print('-'*50)\n",
    "print('CONFUSION MATRIX: VALIDATION DATA',confusion_matrix(knn_test_pred,y_test))\n"
   ]
  },
  {
   "cell_type": "code",
   "execution_count": null,
   "id": "931eda46",
   "metadata": {},
   "outputs": [
    {
     "name": "stdout",
     "output_type": "stream",
     "text": [
      "CLASSIFICATION REPORT: TRAIN DATA               precision    recall  f1-score   support\n",
      "\n",
      "           0       0.90      0.86      0.88      1998\n",
      "           1       0.73      0.80      0.76       925\n",
      "\n",
      "    accuracy                           0.84      2923\n",
      "   macro avg       0.82      0.83      0.82      2923\n",
      "weighted avg       0.85      0.84      0.85      2923\n",
      "\n",
      "--------------------------------------------------\n",
      "CLASSIFICATION REPORT: VALIDATION DATA               precision    recall  f1-score   support\n",
      "\n",
      "           0       0.84      0.80      0.82       861\n",
      "           1       0.60      0.66      0.63       393\n",
      "\n",
      "    accuracy                           0.76      1254\n",
      "   macro avg       0.72      0.73      0.72      1254\n",
      "weighted avg       0.76      0.76      0.76      1254\n",
      "\n"
     ]
    }
   ],
   "source": [
    "print('CLASSIFICATION REPORT: TRAIN DATA',classification_report(knn_train_pred,y_train))\n",
    "print('-'*50)\n",
    "print('CLASSIFICATION REPORT: VALIDATION DATA',classification_report(knn_test_pred,y_test))\n"
   ]
  },
  {
   "cell_type": "code",
   "execution_count": null,
   "id": "3de8926e",
   "metadata": {},
   "outputs": [],
   "source": [
    "result= pd.DataFrame(columns=['TRAIN','TEST'])\n",
    "for i in range(1,201):\n",
    "    KNN= KNeighborsClassifier(n_neighbors=i)\n",
    "    KNN.fit(x_train1,y_train)\n",
    "    train_pred=KNN.predict(x_train1)\n",
    "    test_pred=KNN.predict(x_test1)\n",
    "    Accuracy1= KNN.score(x_train1,y_train)\n",
    "    Accuracy2= KNN.score(x_test1,y_test)\n",
    "    result = result.append(({'TRAIN':Accuracy1,'TEST':Accuracy2}),ignore_index=True)"
   ]
  },
  {
   "cell_type": "code",
   "execution_count": null,
   "id": "36b9f1bb",
   "metadata": {},
   "outputs": [
    {
     "data": {
      "text/html": [
       "<div>\n",
       "<style scoped>\n",
       "    .dataframe tbody tr th:only-of-type {\n",
       "        vertical-align: middle;\n",
       "    }\n",
       "\n",
       "    .dataframe tbody tr th {\n",
       "        vertical-align: top;\n",
       "    }\n",
       "\n",
       "    .dataframe thead th {\n",
       "        text-align: right;\n",
       "    }\n",
       "</style>\n",
       "<table border=\"1\" class=\"dataframe\">\n",
       "  <thead>\n",
       "    <tr style=\"text-align: right;\">\n",
       "      <th></th>\n",
       "      <th>TRAIN</th>\n",
       "      <th>TEST</th>\n",
       "    </tr>\n",
       "  </thead>\n",
       "  <tbody>\n",
       "    <tr>\n",
       "      <th>0</th>\n",
       "      <td>1.000000</td>\n",
       "      <td>0.722488</td>\n",
       "    </tr>\n",
       "    <tr>\n",
       "      <th>1</th>\n",
       "      <td>0.862812</td>\n",
       "      <td>0.732057</td>\n",
       "    </tr>\n",
       "    <tr>\n",
       "      <th>2</th>\n",
       "      <td>0.870339</td>\n",
       "      <td>0.748804</td>\n",
       "    </tr>\n",
       "    <tr>\n",
       "      <th>3</th>\n",
       "      <td>0.839548</td>\n",
       "      <td>0.750399</td>\n",
       "    </tr>\n",
       "    <tr>\n",
       "      <th>4</th>\n",
       "      <td>0.843996</td>\n",
       "      <td>0.756778</td>\n",
       "    </tr>\n",
       "    <tr>\n",
       "      <th>...</th>\n",
       "      <td>...</td>\n",
       "      <td>...</td>\n",
       "    </tr>\n",
       "    <tr>\n",
       "      <th>195</th>\n",
       "      <td>0.737598</td>\n",
       "      <td>0.720096</td>\n",
       "    </tr>\n",
       "    <tr>\n",
       "      <th>196</th>\n",
       "      <td>0.739309</td>\n",
       "      <td>0.720893</td>\n",
       "    </tr>\n",
       "    <tr>\n",
       "      <th>197</th>\n",
       "      <td>0.740677</td>\n",
       "      <td>0.720096</td>\n",
       "    </tr>\n",
       "    <tr>\n",
       "      <th>198</th>\n",
       "      <td>0.741362</td>\n",
       "      <td>0.721691</td>\n",
       "    </tr>\n",
       "    <tr>\n",
       "      <th>199</th>\n",
       "      <td>0.741020</td>\n",
       "      <td>0.721691</td>\n",
       "    </tr>\n",
       "  </tbody>\n",
       "</table>\n",
       "<p>200 rows × 2 columns</p>\n",
       "</div>"
      ],
      "text/plain": [
       "        TRAIN      TEST\n",
       "0    1.000000  0.722488\n",
       "1    0.862812  0.732057\n",
       "2    0.870339  0.748804\n",
       "3    0.839548  0.750399\n",
       "4    0.843996  0.756778\n",
       "..        ...       ...\n",
       "195  0.737598  0.720096\n",
       "196  0.739309  0.720893\n",
       "197  0.740677  0.720096\n",
       "198  0.741362  0.721691\n",
       "199  0.741020  0.721691\n",
       "\n",
       "[200 rows x 2 columns]"
      ]
     },
     "execution_count": 125,
     "metadata": {},
     "output_type": "execute_result"
    }
   ],
   "source": [
    "result"
   ]
  },
  {
   "cell_type": "code",
   "execution_count": null,
   "id": "1a1c9bee",
   "metadata": {},
   "outputs": [],
   "source": [
    "%matplotlib qt"
   ]
  },
  {
   "cell_type": "code",
   "execution_count": null,
   "id": "8b2c3b59",
   "metadata": {},
   "outputs": [
    {
     "data": {
      "text/plain": [
       "<AxesSubplot:>"
      ]
     },
     "execution_count": 127,
     "metadata": {},
     "output_type": "execute_result"
    }
   ],
   "source": [
    "result.plot()"
   ]
  },
  {
   "cell_type": "code",
   "execution_count": null,
   "id": "0eb240f0",
   "metadata": {},
   "outputs": [],
   "source": [
    "\n",
    "x_train2 = pd.get_dummies(x_train)\n",
    "x_test2 =pd.get_dummies(x_test)"
   ]
  },
  {
   "cell_type": "code",
   "execution_count": null,
   "id": "0a005788",
   "metadata": {},
   "outputs": [],
   "source": [
    "result1= pd.DataFrame(columns=['TRAIN','TEST'])\n",
    "for i in range(1,201):\n",
    "    KNN= KNeighborsClassifier(n_neighbors=i)\n",
    "    KNN.fit(x_train2,y_train)\n",
    "    Accuracy3= KNN.score(x_train2,y_train)\n",
    "    Accuracy4= KNN.score(x_test2,y_test)\n",
    "    result1 = result1.append(({'TRAIN':Accuracy3,'TEST':Accuracy4}),ignore_index=True)"
   ]
  },
  {
   "cell_type": "code",
   "execution_count": null,
   "id": "d651bb48",
   "metadata": {
    "scrolled": true
   },
   "outputs": [
    {
     "data": {
      "text/html": [
       "<div>\n",
       "<style scoped>\n",
       "    .dataframe tbody tr th:only-of-type {\n",
       "        vertical-align: middle;\n",
       "    }\n",
       "\n",
       "    .dataframe tbody tr th {\n",
       "        vertical-align: top;\n",
       "    }\n",
       "\n",
       "    .dataframe thead th {\n",
       "        text-align: right;\n",
       "    }\n",
       "</style>\n",
       "<table border=\"1\" class=\"dataframe\">\n",
       "  <thead>\n",
       "    <tr style=\"text-align: right;\">\n",
       "      <th></th>\n",
       "      <th>TRAIN</th>\n",
       "      <th>TEST</th>\n",
       "    </tr>\n",
       "  </thead>\n",
       "  <tbody>\n",
       "    <tr>\n",
       "      <th>0</th>\n",
       "      <td>1.000000</td>\n",
       "      <td>0.722488</td>\n",
       "    </tr>\n",
       "    <tr>\n",
       "      <th>1</th>\n",
       "      <td>0.862812</td>\n",
       "      <td>0.732057</td>\n",
       "    </tr>\n",
       "    <tr>\n",
       "      <th>2</th>\n",
       "      <td>0.870339</td>\n",
       "      <td>0.748804</td>\n",
       "    </tr>\n",
       "    <tr>\n",
       "      <th>3</th>\n",
       "      <td>0.839548</td>\n",
       "      <td>0.750399</td>\n",
       "    </tr>\n",
       "    <tr>\n",
       "      <th>4</th>\n",
       "      <td>0.843996</td>\n",
       "      <td>0.756778</td>\n",
       "    </tr>\n",
       "    <tr>\n",
       "      <th>...</th>\n",
       "      <td>...</td>\n",
       "      <td>...</td>\n",
       "    </tr>\n",
       "    <tr>\n",
       "      <th>195</th>\n",
       "      <td>0.737598</td>\n",
       "      <td>0.718501</td>\n",
       "    </tr>\n",
       "    <tr>\n",
       "      <th>196</th>\n",
       "      <td>0.739309</td>\n",
       "      <td>0.719298</td>\n",
       "    </tr>\n",
       "    <tr>\n",
       "      <th>197</th>\n",
       "      <td>0.740677</td>\n",
       "      <td>0.718501</td>\n",
       "    </tr>\n",
       "    <tr>\n",
       "      <th>198</th>\n",
       "      <td>0.741362</td>\n",
       "      <td>0.720096</td>\n",
       "    </tr>\n",
       "    <tr>\n",
       "      <th>199</th>\n",
       "      <td>0.741020</td>\n",
       "      <td>0.720096</td>\n",
       "    </tr>\n",
       "  </tbody>\n",
       "</table>\n",
       "<p>200 rows × 2 columns</p>\n",
       "</div>"
      ],
      "text/plain": [
       "        TRAIN      TEST\n",
       "0    1.000000  0.722488\n",
       "1    0.862812  0.732057\n",
       "2    0.870339  0.748804\n",
       "3    0.839548  0.750399\n",
       "4    0.843996  0.756778\n",
       "..        ...       ...\n",
       "195  0.737598  0.718501\n",
       "196  0.739309  0.719298\n",
       "197  0.740677  0.718501\n",
       "198  0.741362  0.720096\n",
       "199  0.741020  0.720096\n",
       "\n",
       "[200 rows x 2 columns]"
      ]
     },
     "execution_count": 117,
     "metadata": {},
     "output_type": "execute_result"
    }
   ],
   "source": [
    "result1"
   ]
  },
  {
   "cell_type": "code",
   "execution_count": null,
   "id": "f65c1d67",
   "metadata": {},
   "outputs": [],
   "source": [
    "%matplotlib qt"
   ]
  },
  {
   "cell_type": "code",
   "execution_count": null,
   "id": "bbcc2916",
   "metadata": {},
   "outputs": [],
   "source": [
    "result1.plot()"
   ]
  }
 ],
 "metadata": {
  "kernelspec": {
   "display_name": "Python 3",
   "language": "python",
   "name": "python3"
  },
  "language_info": {
   "codemirror_mode": {
    "name": "ipython",
    "version": 3
   },
   "file_extension": ".py",
   "mimetype": "text/x-python",
   "name": "python",
   "nbconvert_exporter": "python",
   "pygments_lexer": "ipython3",
   "version": "3.8.8"
  }
 },
 "nbformat": 4,
 "nbformat_minor": 5
}
